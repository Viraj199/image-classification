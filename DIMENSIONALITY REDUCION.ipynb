{
 "cells": [
  {
   "cell_type": "markdown",
   "metadata": {},
   "source": [
    "# DIMENSIONALITY REDUCTION"
   ]
  },
  {
   "cell_type": "markdown",
   "metadata": {},
   "source": [
    "Many\tMachine\tLearning\tproblems\tinvolve\tthousands\tor\teven\tmillions\tof\tfeatures\tfor\teach\ttraining instance.\tNot\tonly\tdoes\tthis\tmake\ttraining\textremely\tslow,\tit\tcan\talso\tmake\tit\tmuch\tharder\tto\tfind\ta\tgood solution,\tas\twe\twill\tsee.\tThis\tproblem\tis\toften\treferred\tto\tas\tthe\tcurse\tof\tdimensionality. "
   ]
  },
  {
   "cell_type": "markdown",
   "metadata": {},
   "source": [
    " by reducing the features we can speed up the training and can optimize good solution.this is called dimensionality reduction"
   ]
  },
  {
   "cell_type": "markdown",
   "metadata": {},
   "source": [
    "Reducing\tdimensionality\tdoes\tlose\tsome\tinformation\t(just\tlike\tcompressing\tan\timage\tto\tJPEG\tcan\tdegrade\tits\tquality),\tso\teven though\tit\twill\tspeed\tup\ttraining,\tit\tmay\talso\tmake\tyour\tsystem\tperform\tslightly\tworse.\tIt\talso\tmakes\tyour\tpipelines\ta\tbit\tmore complex\tand\tthus\tharder\tto\tmaintain.\tSo\tyou\tshould\tfirst\ttry\tto\ttrain\tyour\tsystem\twith\tthe\toriginal\tdata\tbefore\tconsidering\tusing dimensionality\treduction\tif\ttraining\tis\ttoo\tslow.\tIn\tsome\tcases,\thowever,\treducing\tthe\tdimensionality\tof\tthe\ttraining\tdata\tmay\tfilter out\tsome\tnoise\tand\tunnecessary\tdetails\tand\tthus\tresult\tin\thigher\tperformance\t(but\tin\tgeneral\tit\twon’t;\tit\twill\tjust\tspeed\tup training).\n"
   ]
  },
  {
   "cell_type": "markdown",
   "metadata": {},
   "source": [
    "Apart\tfrom\tspeeding\tup\ttraining,\tdimensionality\treduction\tis\talso\textremely\tuseful\tfor\tdata\tvisualization (or\tDataViz).\tReducing\tthe\tnumber\tof\tdimensions\tdown\tto\ttwo\t(or\tthree)\tmakes\tit\tpossible\tto\tplot\ta\thighdimensional\ttraining\tset\ton\ta\tgraph\tand\toften\tgain\tsome\timportant\tinsights\tby\tvisually\tdetecting\tpatterns, such\tas\tclusters. "
   ]
  },
  {
   "cell_type": "markdown",
   "metadata": {},
   "source": [
    "# The\tCurse\tof\tDimensionality"
   ]
  },
  {
   "cell_type": "code",
   "execution_count": 1,
   "metadata": {},
   "outputs": [],
   "source": [
    "# To support both python 2 and python 3\n",
    "from __future__ import division, print_function, unicode_literals\n",
    "\n",
    "# Common imports\n",
    "import numpy as np\n",
    "import os\n",
    "\n",
    "# to make this notebook's output stable across runs\n",
    "np.random.seed(42)\n",
    "\n",
    "# To plot pretty figures\n",
    "%matplotlib inline\n",
    "import matplotlib as mpl\n",
    "import matplotlib.pyplot as plt\n",
    "mpl.rc('axes', labelsize=14)\n",
    "mpl.rc('xtick', labelsize=12)\n",
    "mpl.rc('ytick', labelsize=12)\n",
    "\n",
    "# Where to save the figures\n",
    "PROJECT_ROOT_DIR = \"C:\\\\Users\\\\91949\\\\Desktop\\\\data science\"\n",
    "CHAPTER_ID = \"unsupervised_learning\"\n",
    "\n",
    "def save_fig(fig_id, tight_layout=True):\n",
    "    path = os.path.join(PROJECT_ROOT_DIR, \"images\", CHAPTER_ID, fig_id + \".png\")\n",
    "    print(\"Saving figure\", fig_id)\n",
    "    if tight_layout:\n",
    "        plt.tight_layout()\n",
    "    plt.savefig(path, format='png', dpi=300)\n",
    "\n",
    "# Ignore useless warnings (see SciPy issue #5998)\n",
    "import warnings\n",
    "warnings.filterwarnings(action=\"ignore\", message=\"^internal gelsd\")"
   ]
  },
  {
   "cell_type": "markdown",
   "metadata": {},
   "source": [
    "# Projection methods"
   ]
  },
  {
   "cell_type": "code",
   "execution_count": 2,
   "metadata": {},
   "outputs": [],
   "source": [
    "np.random.seed(4)\n",
    "m = 60\n",
    "w1, w2 = 0.1, 0.3\n",
    "noise = 0.1\n",
    "\n",
    "angles = np.random.rand(m) * 3 * np.pi / 2 - 0.5\n",
    "X = np.empty((m, 3))\n",
    "X[:, 0] = np.cos(angles) + np.sin(angles)/2 + noise * np.random.randn(m) / 2\n",
    "X[:, 1] = np.sin(angles) * 0.7 + noise * np.random.randn(m) / 2\n",
    "X[:, 2] = X[:, 0] * w1 + X[:, 1] * w2 + noise * np.random.randn(m)"
   ]
  },
  {
   "cell_type": "markdown",
   "metadata": {},
   "source": [
    "PCA using SVD decomposition\n",
    "Note: the svd() function returns U, s and Vt, where Vt is equal to $\\mathbf{V}^T$, the transpose of the matrix $\\mathbf{V}$. Earlier versions of the book mistakenly said that it returned V instead of Vt. Also, Equation 8-1 should actually contain $\\mathbf{V}$ instead of $\\mathbf{V}^T$, like this:\n",
    "\n",
    "$\n",
    "\\mathbf{V} =\n",
    "\\begin{pmatrix}\n",
    "  \\mid &amp; \\mid &amp; &amp; \\mid \\\\\n",
    "  \\mathbf{c_1} &amp; \\mathbf{c_2} &amp; \\cdots &amp; \\mathbf{c_n} \\\\\n",
    "  \\mid &amp; \\mid &amp; &amp; \\mid\n",
    "\\end{pmatrix}\n",
    "$"
   ]
  },
  {
   "cell_type": "code",
   "execution_count": 3,
   "metadata": {},
   "outputs": [],
   "source": [
    "X_centered = X - X.mean(axis=0)\n",
    "U, s, Vt = np.linalg.svd(X_centered)\n",
    "c1 = Vt.T[:, 0]\n",
    "c2 = Vt.T[:, 1]"
   ]
  },
  {
   "cell_type": "code",
   "execution_count": 4,
   "metadata": {},
   "outputs": [],
   "source": [
    "m, n = X.shape\n",
    "\n",
    "S = np.zeros(X_centered.shape)\n",
    "S[:n, :n] = np.diag(s)"
   ]
  },
  {
   "cell_type": "code",
   "execution_count": 5,
   "metadata": {},
   "outputs": [
    {
     "data": {
      "text/plain": [
       "True"
      ]
     },
     "execution_count": 5,
     "metadata": {},
     "output_type": "execute_result"
    }
   ],
   "source": [
    "np.allclose(X_centered, U.dot(S).dot(Vt))"
   ]
  },
  {
   "cell_type": "code",
   "execution_count": 6,
   "metadata": {},
   "outputs": [],
   "source": [
    "W2 = Vt.T[:, :2]\n",
    "X2D = X_centered.dot(W2)"
   ]
  },
  {
   "cell_type": "code",
   "execution_count": 7,
   "metadata": {},
   "outputs": [],
   "source": [
    "X2D_using_svd = X2D"
   ]
  },
  {
   "cell_type": "markdown",
   "metadata": {},
   "source": [
    "# Main\tApproaches\tfor\tDimensionality\tReduction "
   ]
  },
  {
   "cell_type": "markdown",
   "metadata": {},
   "source": [
    "projection\tand\tManifold\tLearning."
   ]
  },
  {
   "cell_type": "markdown",
   "metadata": {},
   "source": [
    "# Projection"
   ]
  },
  {
   "cell_type": "markdown",
   "metadata": {},
   "source": [
    "1.if\twe\tproject\tevery\ttraining\tinstance\tperpendicularly\tonto\tthis subspace\t(as\trepresented\tby\tthe\tshort\tlines\tconnecting\tthe\tinstances\tto\tthe\tplane),\twe\tget\tthe\tnew\t2D dataset"
   ]
  },
  {
   "cell_type": "markdown",
   "metadata": {},
   "source": [
    "# Manifold Learning"
   ]
  },
  {
   "cell_type": "code",
   "execution_count": null,
   "metadata": {},
   "outputs": [],
   "source": []
  },
  {
   "cell_type": "code",
   "execution_count": null,
   "metadata": {},
   "outputs": [],
   "source": []
  },
  {
   "cell_type": "markdown",
   "metadata": {},
   "source": [
    "# PCA"
   ]
  },
  {
   "cell_type": "markdown",
   "metadata": {},
   "source": [
    "1.Principal\tComponent\tAnalysis\t(PCA)\tis\tby\tfar\tthe\tmost\tpopular\tdimensionality\treduction\talgorithm. First\tit\tidentifies\tthe\thyperplane\tthat\tlies\tclosest\tto\tthe\tdata,\tand\tthen\tit\tprojects\tthe\tdata\tonto\tit."
   ]
  },
  {
   "cell_type": "markdown",
   "metadata": {},
   "source": [
    "2.Before\tyou\tcan\tproject\tthe\ttraining\tset\tonto\ta\tlower-dimensional\thyperplane,\tyou\tfirst\tneed\tto\tchoose\tthe right\thyperplane"
   ]
  },
  {
   "cell_type": "markdown",
   "metadata": {},
   "source": [
    "3.It\tseems\treasonable\tto\tselect\tthe\taxis\tthat\tpreserves\tthe\tmaximum\tamount\tof\tvariance,\tas\tit\twill\tmost likely\tlose\tless\tinformation\tthan\tthe\tother\tprojections.|"
   ]
  },
  {
   "cell_type": "markdown",
   "metadata": {},
   "source": [
    "4.Another\tway\tto\tjustify\tthis\tchoice\tis\tthat\tit\tis\tthe axis\tthat\tminimizes\tthe\tmean\tsquared\tdistance\tbetween\tthe\toriginal\tdataset\tand\tits\tprojection\tonto\tthat axis.\tThis\tis\tthe\trather\tsimple\tidea\tbehind\tPCA"
   ]
  },
  {
   "cell_type": "markdown",
   "metadata": {},
   "source": [
    "5.PCA\tidentifies\tthe\taxis\tthat\taccounts\tfor\tthe\tlargest\tamount\tof\tvariance\tin\tthe\ttraining\tset."
   ]
  },
  {
   "cell_type": "markdown",
   "metadata": {},
   "source": [
    "6.identifies as many\taxes\tas\tthe\tnumber\tof\tdimensions\tin\tthe\tdataset. "
   ]
  },
  {
   "cell_type": "markdown",
   "metadata": {},
   "source": [
    "7.The\tunit\tvector\tthat\tdefines\tthe\tith\taxis\tis\tcalled\tthe\tith\tprincipal\tcomponent\t(PC).\t"
   ]
  },
  {
   "cell_type": "markdown",
   "metadata": {},
   "source": [
    "8.The\tdirection\tof\tthe\tprincipal\tcomponents\tis\tnot\tstable:\tif\tyou\tperturb\tthe\ttraining\tset\tslightly\tand\trun\tPCA\tagain,\tsome\tof\tthe\tnew PCs\tmay\tpoint\tin\tthe\topposite\tdirection\tof\tthe\toriginal\tPCs.\tHowever,\tthey\twill\tgenerally\tstill\tlie\ton\tthe\tsame\taxes.\tIn\tsome\tcases, a\tpair\tof\tPCs\tmay\teven\trotate\tor\tswap,\tbut\tthe\tplane\tthey\tdefine\twill\tgenerally\tremain\tthe\tsame"
   ]
  },
  {
   "cell_type": "markdown",
   "metadata": {},
   "source": [
    "9.So\thow\tcan\tyou\tfind\tthe\tprincipal\tcomponents\tof\ta\ttraining\tset?\tLuckily,\tthere\tis\ta\tstandard\tmatrix factorization\ttechnique\tcalled\tSingular\tValue\tDecomposition\t(SVD)\tthat\tcan\tdecompose\tthe\ttraining\tset matrix\tX\tinto\tthe\tdot\tproduct\tof\tthree\tmatrices\tU\t·\tΣ\t·\tVT,\twhere\tVT\tcontains\tall\tthe\tprincipal\tcomponents that\twe\tare\tlooking\t"
   ]
  },
  {
   "cell_type": "markdown",
   "metadata": {},
   "source": [
    "Note: the svd() function returns U, s and Vt, where Vt is equal to $\\mathbf{V}^T$, the transpose of the matrix $\\mathbf{V}$. Earlier versions of the book mistakenly said that it returned V instead of Vt. Also, Equation 8-1 should actually contain $\\mathbf{V}$ instead of $\\mathbf{V}^T$, like this:\n",
    "\n",
    "$\n",
    "\\mathbf{V} =\n",
    "\\begin{pmatrix}\n",
    "  \\mid &amp; \\mid &amp; &amp; \\mid \\\\\n",
    "  \\mathbf{c_1} &amp; \\mathbf{c_2} &amp; \\cdots &amp; \\mathbf{c_n} \\\\\n",
    "  \\mid &amp; \\mid &amp; &amp; \\mid\n",
    "\\end{pmatrix}\n",
    "$"
   ]
  },
  {
   "cell_type": "markdown",
   "metadata": {},
   "source": [
    "# PCA using SVD decomposition"
   ]
  },
  {
   "cell_type": "code",
   "execution_count": 18,
   "metadata": {},
   "outputs": [],
   "source": [
    "X_centered = X - X.mean(axis=0)\n",
    "U, s, Vt = np.linalg.svd(X_centered)\n",
    "c1 = Vt.T[:, 0]\n",
    "c2 = Vt.T[:, 1]\n",
    "#we got the principal components"
   ]
  },
  {
   "cell_type": "markdown",
   "metadata": {},
   "source": [
    "PCA\tassumes\tthat\tthe\tdataset\tis\tcentered\taround\tthe\torigin.\tAs\twe\twill\tsee,\tScikit-Learn’s\tPCA\tclasses\ttake\tcare\tof\tcentering the\tdata\tfor\tyou.\tHowever,\tif\tyou\timplement\tPCA\tyourself\t(as\tin\tthe\tpreceding\texample),\tor\tif\tyou\tuse\tother\tlibraries,\tdon’t\n",
    "forget\tto\tcenter\tthe\tdata\tfirst."
   ]
  },
  {
   "cell_type": "markdown",
   "metadata": {},
   "source": [
    "Once\tyou\thave\tidentified\tall\tthe\tprincipal\tcomponents,\tyou\tcan\treduce\tthe\tdimensionality\tof\tthe\tdataset down\tto\td\tdimensions\tby\tprojecting\tit\tonto\tthe\thyperplane\tdefined\tby\tthe\tfirst\td\tprincipal\tcomponents. "
   ]
  },
  {
   "cell_type": "markdown",
   "metadata": {},
   "source": [
    "To\tproject\tthe\ttraining\tset\tonto\tthe\thyperplane,\tyou\tcan\tsimply\tcompute\tthe\tdot\tproduct\tof\tthe\ttraining\tset matrix\tX\tby\tthe\tmatrix\tWd,\tdefined\tas\tthe\tmatrix\tcontaining\tthe\tfirst\td\tprincipal\tcomponents\t(i.e.,\tthe matrix\tcomposed\tof\tthe\tfirst\td\tcolumns\tof\tVT)"
   ]
  },
  {
   "cell_type": "markdown",
   "metadata": {},
   "source": [
    "Xd=X.Wd\n",
    "#X=training set\n",
    "#Xd = projecting the training set to d dimensions\n",
    "#Wd= the matrix containg first d principal components"
   ]
  },
  {
   "cell_type": "code",
   "execution_count": 20,
   "metadata": {},
   "outputs": [],
   "source": [
    "m, n = X.shape\n",
    "\n",
    "S = np.zeros(X_centered.shape)\n",
    "S[:n, :n] = np.diag(s)"
   ]
  },
  {
   "cell_type": "code",
   "execution_count": 21,
   "metadata": {},
   "outputs": [
    {
     "data": {
      "text/plain": [
       "True"
      ]
     },
     "execution_count": 21,
     "metadata": {},
     "output_type": "execute_result"
    }
   ],
   "source": [
    "np.allclose(X_centered, U.dot(S).dot(Vt))"
   ]
  },
  {
   "cell_type": "code",
   "execution_count": 22,
   "metadata": {},
   "outputs": [],
   "source": [
    "W2 = Vt.T[:, :2]\n",
    "X2D = X_centered.dot(W2)"
   ]
  },
  {
   "cell_type": "code",
   "execution_count": 23,
   "metadata": {},
   "outputs": [],
   "source": [
    "X2D_using_svd = X2D"
   ]
  },
  {
   "cell_type": "markdown",
   "metadata": {},
   "source": [
    "# Using\tScikit-Learn "
   ]
  },
  {
   "cell_type": "markdown",
   "metadata": {},
   "source": [
    "1.Scikit-Learn’s\tPCA\tclass\timplements\tPCA\tusing\tSVD\tdecomposition\tjust\tlike\twe\tdid\tbefore.\tThe following\tcode\tapplies\tPCA\tto\treduce\tthe\tdimensionality\tof\tthe\tdataset\tdown\tto\ttwo\tdimensions"
   ]
  },
  {
   "cell_type": "code",
   "execution_count": 29,
   "metadata": {},
   "outputs": [],
   "source": [
    "from sklearn.decomposition import PCA\n",
    "\n",
    "pca = PCA(n_components = 2)\n",
    "X2D = pca.fit_transform(X)"
   ]
  },
  {
   "cell_type": "markdown",
   "metadata": {},
   "source": [
    "2.After\tfitting\tthe\tPCA\ttransformer\tto\tthe\tdataset,\tyou\tcan\taccess\tthe\tprincipal\tcomponents\tusing\tthe components_\tvariable"
   ]
  },
  {
   "cell_type": "code",
   "execution_count": 30,
   "metadata": {},
   "outputs": [
    {
     "data": {
      "text/plain": [
       "array([[ 1.26203346,  0.42067648],\n",
       "       [-0.08001485, -0.35272239],\n",
       "       [ 1.17545763,  0.36085729],\n",
       "       [ 0.89305601, -0.30862856],\n",
       "       [ 0.73016287, -0.25404049]])"
      ]
     },
     "execution_count": 30,
     "metadata": {},
     "output_type": "execute_result"
    }
   ],
   "source": [
    "X2D[:5]"
   ]
  },
  {
   "cell_type": "code",
   "execution_count": 31,
   "metadata": {},
   "outputs": [
    {
     "data": {
      "text/plain": [
       "array([[-1.26203346, -0.42067648],\n",
       "       [ 0.08001485,  0.35272239],\n",
       "       [-1.17545763, -0.36085729],\n",
       "       [-0.89305601,  0.30862856],\n",
       "       [-0.73016287,  0.25404049]])"
      ]
     },
     "execution_count": 31,
     "metadata": {},
     "output_type": "execute_result"
    }
   ],
   "source": [
    "X2D_using_svd[:5]"
   ]
  },
  {
   "cell_type": "markdown",
   "metadata": {},
   "source": [
    "X2D AND X2D USING SVD ARE SAME"
   ]
  },
  {
   "cell_type": "code",
   "execution_count": 37,
   "metadata": {},
   "outputs": [
    {
     "data": {
      "text/plain": [
       "True"
      ]
     },
     "execution_count": 37,
     "metadata": {},
     "output_type": "execute_result"
    }
   ],
   "source": [
    "#by using ALLCLOSE we can find wheter two values are equal or not\n",
    "np.allclose(X2D, -X2D_using_svd)"
   ]
  },
  {
   "cell_type": "code",
   "execution_count": 38,
   "metadata": {},
   "outputs": [
    {
     "data": {
      "text/plain": [
       "array([[-0.93636116, -0.29854881, -0.18465208],\n",
       "       [ 0.34027485, -0.90119108, -0.2684542 ]])"
      ]
     },
     "execution_count": 38,
     "metadata": {},
     "output_type": "execute_result"
    }
   ],
   "source": [
    "#pricipal components\n",
    "pca.components_"
   ]
  },
  {
   "cell_type": "markdown",
   "metadata": {},
   "source": [
    "# Explained\tVariance\tRatio "
   ]
  },
  {
   "cell_type": "markdown",
   "metadata": {},
   "source": [
    "Another\tvery\tuseful\tpiece\tof\tinformation\tis\tthe\texplained\tvariance\tratio\tof\teach\tprincipal\tcomponent, available\tvia\tthe\texplained_variance_ratio_\tvariable.\tIt\tindicates\tthe\tproportion\tof\tthe\tdataset’s variance\tthat\tlies\talong\tthe\taxis\tof\teach\tprincipal\tcomponent"
   ]
  },
  {
   "cell_type": "code",
   "execution_count": 39,
   "metadata": {},
   "outputs": [
    {
     "data": {
      "text/plain": [
       "array([0.84248607, 0.14631839])"
      ]
     },
     "execution_count": 39,
     "metadata": {},
     "output_type": "execute_result"
    }
   ],
   "source": [
    "pca.explained_variance_ratio_"
   ]
  },
  {
   "cell_type": "markdown",
   "metadata": {},
   "source": [
    "This\ttells\tyou\tthat\t84.2%\tof\tthe\tdataset’s\tvariance\tlies\talong\tthe\tfirst\taxis,\tand\t14.6%\tlies\talong\tthe second\taxis.\tThis\tleaves\tless\tthan\t1.2%\tfor\tthe\tthird\taxis,\tso\tit\tis\treasonable\tto\tassume\tthat\tit\tprobably carries\tlittle\tinformation"
   ]
  },
  {
   "cell_type": "markdown",
   "metadata": {},
   "source": [
    "# Choosing\tthe\tRight\tNumber\tof\tDimensions "
   ]
  },
  {
   "cell_type": "markdown",
   "metadata": {},
   "source": [
    "The\tfollowing\tcode\tcomputes\tPCA\twithout\treducing\tdimensionality,\tthen\tcomputes\tthe\tminimum\tnumber of\tdimensions\trequired\tto\tpreserve\t95%\tof\tthe\ttraining\tset’s\tvariance:\n"
   ]
  },
  {
   "cell_type": "code",
   "execution_count": 52,
   "metadata": {},
   "outputs": [],
   "source": [
    "pca=PCA()\n",
    "pca.fit(X)\n",
    "cumsum=np.cumsum(pca.explained_variance_ratio_)\n",
    "d=np.argmax(cumsum>=0.95)+1"
   ]
  },
  {
   "cell_type": "markdown",
   "metadata": {},
   "source": [
    "You\tcould\tthen\tset\tn_components=d\tand\trun\tPCA\tagain.\tHowever,\tthere\tis\ta\tmuch\tbetter\toption:\tinstead of\tspecifying\tthe\tnumber\tof\tprincipal\tcomponents\tyou\twant\tto\tpreserve,\tyou\tcan\tset\tn_components\tto\tbe a\tfloat\tbetween\t0.0\tand\t1.0,\tindicating\tthe\tratio\tof\tvariance\tyou\twish\tto\tpreserve:\n"
   ]
  },
  {
   "cell_type": "code",
   "execution_count": 53,
   "metadata": {},
   "outputs": [],
   "source": [
    "pca=PCA(n_components=0.95)\n",
    "X_reduced=pca.fit_transform(X)"
   ]
  },
  {
   "cell_type": "markdown",
   "metadata": {},
   "source": [
    "Yet\tanother\toption\tis\tto\tplot\tthe\texplained\tvariance\tas\ta\tfunction\tof\tthe\tnumber\tof\tdimensions\t(simply\tplot cumsum;\tsee\tFigure\t8-8).\tThere\twill\tusually\tbe\tan\telbow\tin\tthe\tcurve,\twhere\tthe\texplained\tvariance\tstops growing\tfast.\t"
   ]
  },
  {
   "cell_type": "code",
   "execution_count": 78,
   "metadata": {},
   "outputs": [
    {
     "data": {
      "text/plain": [
       "[0, 200, 0, 1]"
      ]
     },
     "execution_count": 78,
     "metadata": {},
     "output_type": "execute_result"
    },
    {
     "data": {
      "image/png": "[encoded data removed]",
      "text/plain": [
       "<Figure size 432x288 with 1 Axes>"
      ]
     },
     "metadata": {
      "needs_background": "light"
     },
     "output_type": "display_data"
    }
   ],
   "source": [
    "a=pca.explained_variance_ratio_\n",
    "plt.plot(y=a,x=d)\n",
    "plt.axis([0,200,0,1])\n"
   ]
  },
  {
   "cell_type": "markdown",
   "metadata": {},
   "source": [
    "# PCA\tfor\tCompression "
   ]
  },
  {
   "cell_type": "code",
   "execution_count": 70,
   "metadata": {},
   "outputs": [],
   "source": [
    "from six.moves import urllib\n",
    "try:\n",
    "    from sklearn.datasets import fetch_openml\n",
    "    mnist = fetch_openml('mnist_784', version=1)\n",
    "    mnist.target = mnist.target.astype(np.int64)\n",
    "except ImportError:\n",
    "    from sklearn.datasets import fetch_mldata\n",
    "    mnist = fetch_mldata('MNIST original')"
   ]
  },
  {
   "cell_type": "code",
   "execution_count": 71,
   "metadata": {},
   "outputs": [],
   "source": [
    "from sklearn.model_selection import train_test_split\n",
    "\n",
    "X = mnist[\"data\"]\n",
    "y = mnist[\"target\"]\n",
    "\n",
    "X_train, X_test, y_train, y_test = train_test_split(X, y)"
   ]
  },
  {
   "cell_type": "code",
   "execution_count": 72,
   "metadata": {},
   "outputs": [],
   "source": [
    "pca = PCA()\n",
    "pca.fit(X_train)\n",
    "cumsum = np.cumsum(pca.explained_variance_ratio_)\n",
    "d = np.argmax(cumsum >= 0.95) + 1"
   ]
  },
  {
   "cell_type": "code",
   "execution_count": 73,
   "metadata": {},
   "outputs": [
    {
     "data": {
      "text/plain": [
       "154"
      ]
     },
     "execution_count": 73,
     "metadata": {},
     "output_type": "execute_result"
    }
   ],
   "source": [
    "d"
   ]
  },
  {
   "cell_type": "code",
   "execution_count": 74,
   "metadata": {},
   "outputs": [],
   "source": [
    "pca = PCA(n_components=0.95)\n",
    "X_reduced = pca.fit_transform(X_train)"
   ]
  },
  {
   "cell_type": "code",
   "execution_count": 76,
   "metadata": {},
   "outputs": [
    {
     "data": {
      "text/plain": [
       "154"
      ]
     },
     "execution_count": 76,
     "metadata": {},
     "output_type": "execute_result"
    }
   ],
   "source": [
    "pca.n_components_"
   ]
  },
  {
   "cell_type": "code",
   "execution_count": 79,
   "metadata": {},
   "outputs": [
    {
     "data": {
      "text/plain": [
       "0.9503684424557437"
      ]
     },
     "execution_count": 79,
     "metadata": {},
     "output_type": "execute_result"
    }
   ],
   "source": [
    "np.sum(pca.explained_variance_ratio_)"
   ]
  },
  {
   "cell_type": "markdown",
   "metadata": {},
   "source": [
    "The\tmean\tsquared\tdistance\tbetween\tthe\toriginal\tdata\tand\tthe\treconstructed\tdata (compressed\tand\tthen\tdecompressed)\tis\tcalled\tthe\treconstruction\terror"
   ]
  },
  {
   "cell_type": "markdown",
   "metadata": {},
   "source": [
    "the\tfollowing\tcode compresses\tthe\tMNIST\tdataset\tdown\tto\t154\tdimensions,\tthen\tuses\tthe\tinverse_transform()\tmethod\tto decompress\tit\tback\tto\t784\tdimensions."
   ]
  },
  {
   "cell_type": "code",
   "execution_count": 80,
   "metadata": {},
   "outputs": [],
   "source": [
    "pca = PCA(n_components = 154)\n",
    "X_reduced = pca.fit_transform(X_train)\n",
    "X_recovered = pca.inverse_transform(X_reduced)"
   ]
  },
  {
   "cell_type": "code",
   "execution_count": 81,
   "metadata": {},
   "outputs": [],
   "source": [
    "def plot_digits(instances, images_per_row=5, **options):\n",
    "    size = 28\n",
    "    images_per_row = min(len(instances), images_per_row)\n",
    "    images = [instance.reshape(size,size) for instance in instances]\n",
    "    n_rows = (len(instances) - 1) // images_per_row + 1\n",
    "    row_images = []\n",
    "    n_empty = n_rows * images_per_row - len(instances)\n",
    "    images.append(np.zeros((size, size * n_empty)))\n",
    "    for row in range(n_rows):\n",
    "        rimages = images[row * images_per_row : (row + 1) * images_per_row]\n",
    "        row_images.append(np.concatenate(rimages, axis=1))\n",
    "    image = np.concatenate(row_images, axis=0)\n",
    "    plt.imshow(image, cmap = mpl.cm.binary, **options)\n",
    "    plt.axis(\"off\")\n"
   ]
  },
  {
   "cell_type": "code",
   "execution_count": 83,
   "metadata": {},
   "outputs": [
    {
     "name": "stdout",
     "output_type": "stream",
     "text": [
      "Saving figure mnist_compression_plot\n"
     ]
    },
    {
     "data": {
      "image/png": "[encoded data removed]",
      "text/plain": [
       "<Figure size 504x288 with 2 Axes>"
      ]
     },
     "metadata": {
      "needs_background": "light"
     },
     "output_type": "display_data"
    }
   ],
   "source": [
    "plt.figure(figsize=(7, 4))\n",
    "plt.subplot(121)\n",
    "plot_digits(X_train[::2100])\n",
    "plt.title(\"Original\", fontsize=16)\n",
    "plt.subplot(122)\n",
    "plot_digits(X_recovered[::2100])\n",
    "plt.title(\"Compressed\", fontsize=16)\n",
    "\n",
    "save_fig(\"mnist_compression_plot\")"
   ]
  },
  {
   "cell_type": "code",
   "execution_count": 84,
   "metadata": {},
   "outputs": [],
   "source": [
    "X_reduced_pca = X_reduced"
   ]
  },
  {
   "cell_type": "markdown",
   "metadata": {},
   "source": [
    "# Incremental PCA"
   ]
  },
  {
   "cell_type": "markdown",
   "metadata": {},
   "source": [
    "One\tproblem\twith\tthe\tpreceding\timplementation\tof\tPCA\tis\tthat\tit\trequires\tthe\twhole\ttraining\tset\tto\tfit\tin memory\tin\torder\tfor\tthe\tSVD\talgorithm\tto\trun.\tFortunately,\tIncremental\tPCA\t(IPCA)\talgorithms\thave been\tdeveloped:\tyou\tcan\tsplit\tthe\ttraining\tset\tinto\tmini-batches\tand\tfeed\tan\tIPCA\talgorithm\tone\tminibatch\tat\ta\ttime.\tThis\tis\tuseful\tfor\tlarge\ttraining\tsets,\tand\talso\tto\tapply\tPCA\tonline"
   ]
  },
  {
   "cell_type": "markdown",
   "metadata": {},
   "source": [
    "The\tfollowing\tcode\tsplits\tthe\tMNIST\tdataset\tinto\t100\tmini-batches\t(using\tNumPy’s\tarray_split() function)\tand\tfeeds\tthem\tto\tScikit-Learn’s\tIncrementalPCA\tclass5\tto\treduce\tthe\tdimensionality\tof\tthe MNIST\tdataset\tdown\tto\t154\tdimensions\t(just\tlike\tbefore).\tNote\tthat\tyou\tmust\tcall\tthe\tpartial_fit() method\twith\teach\tmini-batch\trather\tthan\tthe\tfit()\tmethod\twith\tthe\twhole\ttraining\tset:"
   ]
  },
  {
   "cell_type": "code",
   "execution_count": 87,
   "metadata": {},
   "outputs": [
    {
     "name": "stdout",
     "output_type": "stream",
     "text": [
      "...................................................................................................."
     ]
    }
   ],
   "source": [
    "from sklearn.decomposition import IncrementalPCA\n",
    "\n",
    "n_batches = 100\n",
    "inc_pca = IncrementalPCA(n_components=154)\n",
    "for X_batch in np.array_split(X_train, n_batches):\n",
    "    print(\".\", end=\"\") # not shown in the book\n",
    "    inc_pca.partial_fit(X_batch)\n",
    "\n",
    "X_reduced = inc_pca.transform(X_train)"
   ]
  },
  {
   "cell_type": "code",
   "execution_count": null,
   "metadata": {},
   "outputs": [],
   "source": [
    "X_recovered_inc_pca=inc_pca.inverse_transform(X_reduced)\n"
   ]
  },
  {
   "cell_type": "code",
   "execution_count": 89,
   "metadata": {},
   "outputs": [
    {
     "ename": "NameError",
     "evalue": "name 'X_recovered_inc_pca' is not defined",
     "output_type": "error",
     "traceback": [
      "\u001b[1;31m---------------------------------------------------------------------------\u001b[0m",
      "\u001b[1;31mNameError\u001b[0m                                 Traceback (most recent call last)",
      "\u001b[1;32m<ipython-input-89-b447d99d03af>\u001b[0m in \u001b[0;36m<module>\u001b[1;34m\u001b[0m\n\u001b[0;32m      3\u001b[0m \u001b[0mplot_digits\u001b[0m\u001b[1;33m(\u001b[0m\u001b[0mX_train\u001b[0m\u001b[1;33m[\u001b[0m\u001b[1;33m:\u001b[0m\u001b[1;33m:\u001b[0m\u001b[1;36m2100\u001b[0m\u001b[1;33m]\u001b[0m\u001b[1;33m)\u001b[0m\u001b[1;33m\u001b[0m\u001b[1;33m\u001b[0m\u001b[0m\n\u001b[0;32m      4\u001b[0m \u001b[0mplt\u001b[0m\u001b[1;33m.\u001b[0m\u001b[0msubplot\u001b[0m\u001b[1;33m(\u001b[0m\u001b[1;36m122\u001b[0m\u001b[1;33m)\u001b[0m\u001b[1;33m\u001b[0m\u001b[1;33m\u001b[0m\u001b[0m\n\u001b[1;32m----> 5\u001b[1;33m \u001b[0mplot_digits\u001b[0m\u001b[1;33m(\u001b[0m\u001b[0mX_recovered_inc_pca\u001b[0m\u001b[1;33m[\u001b[0m\u001b[1;33m:\u001b[0m\u001b[1;33m:\u001b[0m\u001b[1;36m2100\u001b[0m\u001b[1;33m]\u001b[0m\u001b[1;33m)\u001b[0m\u001b[1;33m\u001b[0m\u001b[1;33m\u001b[0m\u001b[0m\n\u001b[0m\u001b[0;32m      6\u001b[0m \u001b[0mplt\u001b[0m\u001b[1;33m.\u001b[0m\u001b[0mtight_layout\u001b[0m\u001b[1;33m(\u001b[0m\u001b[1;33m)\u001b[0m\u001b[1;33m\u001b[0m\u001b[1;33m\u001b[0m\u001b[0m\n",
      "\u001b[1;31mNameError\u001b[0m: name 'X_recovered_inc_pca' is not defined"
     ]
    },
    {
     "data": {
      "image/png": "[encoded data removed]",
      "text/plain": [
       "<Figure size 504x288 with 2 Axes>"
      ]
     },
     "metadata": {
      "needs_background": "light"
     },
     "output_type": "display_data"
    }
   ],
   "source": [
    "plt.figure(figsize=(7, 4))\n",
    "plt.subplot(121)\n",
    "plot_digits(X_train[::2100])\n",
    "plt.subplot(122)\n",
    "plot_digits(X_recovered_inc_pca[::2100])\n",
    "plt.tight_layout()\n"
   ]
  },
  {
   "cell_type": "code",
   "execution_count": null,
   "metadata": {},
   "outputs": [],
   "source": []
  }
 ],
 "metadata": {
  "kernelspec": {
   "display_name": "Python 3",
   "language": "python",
   "name": "python3"
  },
  "language_info": {
   "codemirror_mode": {
    "name": "ipython",
    "version": 3
   },
   "file_extension": ".py",
   "mimetype": "text/x-python",
   "name": "python",
   "nbconvert_exporter": "python",
   "pygments_lexer": "ipython3",
   "version": "3.7.3"
  }
 },
 "nbformat": 4,
 "nbformat_minor": 2
}
