{
 "cells": [
  {
   "cell_type": "code",
   "execution_count": null,
   "metadata": {},
   "outputs": [],
   "source": []
  },
  {
   "cell_type": "code",
   "execution_count": 1,
   "metadata": {},
   "outputs": [],
   "source": [
    "from sklearn.datasets import fetch_mldata"
   ]
  },
  {
   "cell_type": "code",
   "execution_count": 2,
   "metadata": {},
   "outputs": [],
   "source": [
    "# To support both python 2 and python 3\n",
    "from __future__ import division, print_function, unicode_literals\n",
    "\n",
    "# Common imports\n",
    "import numpy as np\n",
    "import os\n",
    "\n",
    "# to make this notebook's output stable across runs\n",
    "np.random.seed(42)\n",
    "\n",
    "# To plot pretty figures\n",
    "%matplotlib inline\n",
    "import matplotlib as mpl\n",
    "import matplotlib.pyplot as plt\n",
    "mpl.rc('axes', labelsize=14)\n",
    "mpl.rc('xtick', labelsize=12)\n",
    "mpl.rc('ytick', labelsize=12)\n",
    "\n",
    "# Where to save the figures\n",
    "PROJECT_ROOT_DIR = \"C:\\\\Users\\\\91949\\\\Desktop\\\\data science\"\n",
    "CHAPTER_ID = \"classification\"\n",
    "\n",
    "def save_fig(fig_id, tight_layout=True):\n",
    "    path = os.path.join(PROJECT_ROOT_DIR, \"images\", CHAPTER_ID, fig_id + \".png\")\n",
    "    print(\"Saving figure\", fig_id)\n",
    "    if tight_layout:\n",
    "        plt.tight_layout()\n",
    "    plt.savefig(path, format='png', dpi=300)"
   ]
  },
  {
   "cell_type": "code",
   "execution_count": 3,
   "metadata": {},
   "outputs": [],
   "source": [
    "def sort_by_target(mnist):\n",
    "    reorder_train = np.array(sorted([(target, i) for i, target in enumerate(mnist.target[:60000])]))[:, 1]\n",
    "    reorder_test = np.array(sorted([(target, i) for i, target in enumerate(mnist.target[60000:])]))[:, 1]\n",
    "    mnist.data[:60000] = mnist.data[reorder_train]\n",
    "    mnist.target[:60000] = mnist.target[reorder_train]\n",
    "    mnist.data[60000:] = mnist.data[reorder_test + 60000]\n",
    "    mnist.target[60000:] = mnist.target[reorder_test + 60000]"
   ]
  },
  {
   "cell_type": "code",
   "execution_count": 4,
   "metadata": {},
   "outputs": [
    {
     "data": {
      "text/plain": [
       "(array([[0., 0., 0., ..., 0., 0., 0.],\n",
       "        [0., 0., 0., ..., 0., 0., 0.],\n",
       "        [0., 0., 0., ..., 0., 0., 0.],\n",
       "        ...,\n",
       "        [0., 0., 0., ..., 0., 0., 0.],\n",
       "        [0., 0., 0., ..., 0., 0., 0.],\n",
       "        [0., 0., 0., ..., 0., 0., 0.]]),\n",
       " array([0, 0, 0, ..., 9, 9, 9], dtype=int8))"
      ]
     },
     "execution_count": 4,
     "metadata": {},
     "output_type": "execute_result"
    }
   ],
   "source": [
    "\n",
    "try:\n",
    "    from sklearn.datasets import fetch_openml\n",
    "    mnist = fetch_openml('mnist_784', version=1, cache=True)\n",
    "    mnist.target = mnist.target.astype(np.int8) # fetch_openml() returns targets as strings\n",
    "    sort_by_target(mnist) # fetch_openml() returns an unsorted dataset\n",
    "except ImportError:\n",
    "    from sklearn.datasets import fetch_mldata\n",
    "    mnist = fetch_mldata('MNIST original')\n",
    "mnist[\"data\"], mnist[\"target\"]"
   ]
  },
  {
   "cell_type": "code",
   "execution_count": 5,
   "metadata": {},
   "outputs": [],
   "source": [
    "x,y=mnist['data'],mnist['target']"
   ]
  },
  {
   "cell_type": "code",
   "execution_count": 6,
   "metadata": {},
   "outputs": [
    {
     "data": {
      "text/plain": [
       "(70000, 784)"
      ]
     },
     "execution_count": 6,
     "metadata": {},
     "output_type": "execute_result"
    }
   ],
   "source": [
    "x.shape"
   ]
  },
  {
   "cell_type": "code",
   "execution_count": 7,
   "metadata": {},
   "outputs": [
    {
     "data": {
      "text/plain": [
       "(70000,)"
      ]
     },
     "execution_count": 7,
     "metadata": {},
     "output_type": "execute_result"
    }
   ],
   "source": [
    "y.shape"
   ]
  },
  {
   "cell_type": "markdown",
   "metadata": {},
   "source": [
    "so there are 70000 images and each image has 784 features. this is because each image is 28*28 pixels.and each feature simply\n",
    "represents one pixels intensity from 0(white) to 255(black)\n",
    "Lets take a peek at one digit from dataset. and we need to get instance feature vector and need to reshape it to a 28*28 vector \n",
    "and display it using matplotlib imshow() function"
   ]
  },
  {
   "cell_type": "code",
   "execution_count": 8,
   "metadata": {},
   "outputs": [],
   "source": [
    "import matplotlib.pyplot as plt\n",
    "%matplotlib inline"
   ]
  },
  {
   "cell_type": "code",
   "execution_count": 9,
   "metadata": {},
   "outputs": [
    {
     "data": {
      "image/png": "[encoded data removed]",
      "text/plain": [
       "<Figure size 432x288 with 1 Axes>"
      ]
     },
     "metadata": {
      "needs_background": "light"
     },
     "output_type": "display_data"
    }
   ],
   "source": [
    "some_digit=x[36000]\n",
    "some_digit_image=some_digit.reshape(28,28)\n",
    "plt.imshow(some_digit_image,cmap=plt.cm.binary,interpolation='nearest')\n",
    "#to remove axis from image for clear image\n",
    "plt.axis('off')\n",
    "plt.show()"
   ]
  },
  {
   "cell_type": "markdown",
   "metadata": {},
   "source": [
    "this loooks like five . indeed thats what the label y tells us"
   ]
  },
  {
   "cell_type": "code",
   "execution_count": 10,
   "metadata": {},
   "outputs": [
    {
     "data": {
      "text/plain": [
       "5"
      ]
     },
     "execution_count": 10,
     "metadata": {},
     "output_type": "execute_result"
    }
   ],
   "source": [
    "y[36000]"
   ]
  },
  {
   "cell_type": "code",
   "execution_count": 11,
   "metadata": {},
   "outputs": [],
   "source": [
    "x_train,x_test,y_train,y_test=x[:60000],x[60000:],y[:60000],y[60000:]"
   ]
  },
  {
   "cell_type": "code",
   "execution_count": 12,
   "metadata": {},
   "outputs": [
    {
     "data": {
      "text/plain": [
       "(10000, 784)"
      ]
     },
     "execution_count": 12,
     "metadata": {},
     "output_type": "execute_result"
    }
   ],
   "source": [
    "x_test.shape"
   ]
  },
  {
   "cell_type": "code",
   "execution_count": 13,
   "metadata": {},
   "outputs": [
    {
     "data": {
      "text/plain": [
       "(60000, 784)"
      ]
     },
     "execution_count": 13,
     "metadata": {},
     "output_type": "execute_result"
    }
   ],
   "source": [
    "#x_train=x[:60000]\n",
    "#y_train.shape\n",
    "x_train.shape"
   ]
  },
  {
   "cell_type": "markdown",
   "metadata": {},
   "source": [
    "You should always create a test\tset and\tset\tit aside before\tinspecting the data\tclosely.The MNIST\tdataset\tis\tactually\talready\tsplit into a training set(the first\t60,000 images) and a testset(the\tlast 10,000\timages):"
   ]
  },
  {
   "cell_type": "markdown",
   "metadata": {},
   "source": [
    "lets also shuffle the training indices. by this we can avoid the repistition of same training instances for getting optimistic results"
   ]
  },
  {
   "cell_type": "code",
   "execution_count": 14,
   "metadata": {},
   "outputs": [],
   "source": [
    "import numpy as np\n",
    "shuffle_index=np.random.permutation(60000)\n",
    "x_train, y_train=x_train[shuffle_index], y_train[shuffle_index]"
   ]
  },
  {
   "cell_type": "code",
   "execution_count": 15,
   "metadata": {},
   "outputs": [
    {
     "data": {
      "text/plain": [
       "8"
      ]
     },
     "execution_count": 15,
     "metadata": {},
     "output_type": "execute_result"
    }
   ],
   "source": [
    "y[49692]"
   ]
  },
  {
   "cell_type": "code",
   "execution_count": 16,
   "metadata": {},
   "outputs": [],
   "source": [
    "def plot_digit(data):\n",
    "    image = data.reshape(28, 28)\n",
    "    plt.imshow(image, cmap = mpl.cm.binary,\n",
    "               interpolation=\"nearest\")\n",
    "    plt.axis(\"off\")\n",
    "from pylab import *"
   ]
  },
  {
   "cell_type": "code",
   "execution_count": 17,
   "metadata": {},
   "outputs": [],
   "source": [
    "# EXTRA\n",
    "def plot_digits(instances, images_per_row=10, **options):\n",
    "    size = 28\n",
    "    images_per_row = min(len(instances), images_per_row)\n",
    "    images = [instance.reshape(size,size) for instance in instances]\n",
    "    n_rows = (len(instances) - 1) // images_per_row + 1\n",
    "    row_images = []\n",
    "    n_empty = n_rows * images_per_row - len(instances)\n",
    "    images.append(np.zeros((size, size * n_empty)))\n",
    "    for row in range(n_rows):\n",
    "        rimages = images[row * images_per_row : (row + 1) * images_per_row]\n",
    "        row_images.append(np.concatenate(rimages, axis=1))\n",
    "    image = np.concatenate(row_images, axis=0)\n",
    "    plt.imshow(image, cmap = mpl.cm.binary, **options)\n",
    "    plt.axis(\"off\")"
   ]
  },
  {
   "cell_type": "code",
   "execution_count": 18,
   "metadata": {},
   "outputs": [
    {
     "name": "stdout",
     "output_type": "stream",
     "text": [
      "Saving figure more_digits_plot\n"
     ]
    },
    {
     "data": {
      "image/png": "[encoded data removed]",
      "text/plain": [
       "<Figure size 648x648 with 1 Axes>"
      ]
     },
     "metadata": {
      "needs_background": "light"
     },
     "output_type": "display_data"
    }
   ],
   "source": [
    "plt.figure(figsize=(9,9))\n",
    "example_images = np.r_[x[:12000:600], x[13000:30600:600], x[30600:60000:590]]\n",
    "plot_digits(example_images, images_per_row=10)\n",
    "save_fig (\"more_digits_plot\")\n",
    "plt.show()"
   ]
  },
  {
   "cell_type": "markdown",
   "metadata": {},
   "source": [
    "# training a binay classifier"
   ]
  },
  {
   "cell_type": "markdown",
   "metadata": {},
   "source": [
    "#lets try to identify some digit 5. here we need to find if the digit is 5or not 5. so its type of a classification task"
   ]
  },
  {
   "cell_type": "code",
   "execution_count": 19,
   "metadata": {},
   "outputs": [],
   "source": [
    "#target vectors\n",
    "y_train_5=(y_train==5)\n",
    "y_test_5=(y_test==5)"
   ]
  },
  {
   "cell_type": "markdown",
   "metadata": {},
   "source": [
    "need to pick a classifier and train it. we r using SGDclassifier(stotastic gradient descent classifier).this classifier is good at dealith with large amounts of dataset.. and this classifier deals with training instances independently one at atime. so it suis more for online learning"
   ]
  },
  {
   "cell_type": "code",
   "execution_count": 20,
   "metadata": {},
   "outputs": [
    {
     "data": {
      "text/plain": [
       "SGDClassifier(alpha=0.0001, average=False, class_weight=None,\n",
       "       early_stopping=False, epsilon=0.1, eta0=0.0, fit_intercept=True,\n",
       "       l1_ratio=0.15, learning_rate='optimal', loss='hinge', max_iter=5,\n",
       "       n_iter=None, n_iter_no_change=5, n_jobs=None, penalty='l2',\n",
       "       power_t=0.5, random_state=42, shuffle=True, tol=-inf,\n",
       "       validation_fraction=0.1, verbose=0, warm_start=False)"
      ]
     },
     "execution_count": 20,
     "metadata": {},
     "output_type": "execute_result"
    }
   ],
   "source": [
    "#create a sgd classifier and train it\n",
    "from sklearn.linear_model import SGDClassifier\n",
    "sgd_clf=SGDClassifier(max_iter=5,tol=-np.infty,random_state=42)\n",
    "sgd_clf.fit(x_train,y_train_5)\n"
   ]
  },
  {
   "cell_type": "markdown",
   "metadata": {},
   "source": [
    "The\tSGDClassifier\trelies\ton\trandomness\tduring\ttraining\t(hence\tthe\tname\t“stochastic”).\tIf\tyou\twant\treproducible\tresults,\tyou should\tset\tthe\trandom_state\tparameter.\n"
   ]
  },
  {
   "cell_type": "markdown",
   "metadata": {},
   "source": [
    "now we can use this to predict the image 5"
   ]
  },
  {
   "cell_type": "code",
   "execution_count": 21,
   "metadata": {},
   "outputs": [
    {
     "data": {
      "text/plain": [
       "array([ True])"
      ]
     },
     "execution_count": 21,
     "metadata": {},
     "output_type": "execute_result"
    }
   ],
   "source": [
    "sgd_clf.predict([some_digit])"
   ]
  },
  {
   "cell_type": "markdown",
   "metadata": {},
   "source": [
    "The\tclassifier\tguesses\tthat\tthis\timage\trepresents\ta\t5\t(True).\tLooks\tlike\tit\tguessed\tright\tin\tthis\tparticular case!\tNow,\tlet’s\tevaluate\tthis\tmodel’s\tperformance."
   ]
  },
  {
   "cell_type": "markdown",
   "metadata": {},
   "source": [
    "# Performance\tMeasures "
   ]
  },
  {
   "cell_type": "markdown",
   "metadata": {},
   "source": [
    "Evaluating\ta\tclassifier\tis\toften\tsignificantly\ttrickier\tthan\tevaluating\ta\tregressor,\tso\twe\twill\tspend\ta\tlarge part\tof\tthis\tchapter\ton\tthis\ttopic.\tThere\tare\tmany\tperformance\tmeasures\tavailable"
   ]
  },
  {
   "cell_type": "markdown",
   "metadata": {},
   "source": [
    "# Measuring\tAccuracy\tUsing\tCross-Validation"
   ]
  },
  {
   "cell_type": "markdown",
   "metadata": {},
   "source": [
    "IMPLEMENTING\tCROSS-VALIDATION"
   ]
  },
  {
   "cell_type": "markdown",
   "metadata": {},
   "source": [
    "Occasionally\tyou\twill\tneed\tmore\tcontrol\tover\tthe\tcross-validation\tprocess\tthan\twhat\tcross_val_score()\tand\tsimilar\tfunctions\tprovide. In\tthese\tcases,\tyou\tcan\timplement\tcross-validation\tyourself;\tit\tis\tactually\tfairly\tstraightforward.\tThe\tfollowing\tcode\tdoes\troughly\tthe same\tthing\tas\tthe\tpreceding\tcross_val_score()\tcode,\tand\tprints\tthe\tsame\tresult:\n"
   ]
  },
  {
   "cell_type": "code",
   "execution_count": 22,
   "metadata": {},
   "outputs": [
    {
     "name": "stdout",
     "output_type": "stream",
     "text": [
      "0.9502\n",
      "0.96565\n",
      "0.96495\n"
     ]
    }
   ],
   "source": [
    "from sklearn.model_selection import StratifiedKFold\n",
    "from sklearn.base import clone\n",
    "skfolds=StratifiedKFold(n_splits=3,random_state=42)\n",
    "for train_index,test_index in skfolds.split(x_train,y_train_5):\n",
    "    clone_clf=clone(sgd_clf)\n",
    "    x_train_fold=x_train[train_index]\n",
    "    y_train_fold=(y_train_5[train_index])\n",
    "    x_test_fold=x_train[test_index]\n",
    "    y_test_fold=(y_train_5[test_index])\n",
    "    clone_clf.fit(x_train_fold,y_train_fold)\n",
    "    y_pred=clone_clf.predict(x_test_fold)\n",
    "    n_correct= sum(y_pred==y_test_fold)\n",
    "    print(n_correct/len(y_pred))"
   ]
  },
  {
   "cell_type": "code",
   "execution_count": 23,
   "metadata": {},
   "outputs": [
    {
     "data": {
      "text/plain": [
       "19299"
      ]
     },
     "execution_count": 23,
     "metadata": {},
     "output_type": "execute_result"
    }
   ],
   "source": [
    "n_correct"
   ]
  },
  {
   "cell_type": "code",
   "execution_count": 24,
   "metadata": {},
   "outputs": [
    {
     "data": {
      "text/plain": [
       "array([ True,  True,  True, ..., False, False, False])"
      ]
     },
     "execution_count": 24,
     "metadata": {},
     "output_type": "execute_result"
    }
   ],
   "source": [
    "y_pred"
   ]
  },
  {
   "cell_type": "code",
   "execution_count": 25,
   "metadata": {},
   "outputs": [],
   "source": [
    "acc=(n_correct/len(y_pred))"
   ]
  },
  {
   "cell_type": "code",
   "execution_count": 26,
   "metadata": {},
   "outputs": [
    {
     "data": {
      "text/plain": [
       "array([0.9502 , 0.96565, 0.96495])"
      ]
     },
     "execution_count": 26,
     "metadata": {},
     "output_type": "execute_result"
    }
   ],
   "source": [
    "from sklearn.model_selection import cross_val_score\n",
    "cross_val_score(sgd_clf,x_train,y_train_5,cv=3,scoring=\"accuracy\") "
   ]
  },
  {
   "cell_type": "code",
   "execution_count": null,
   "metadata": {},
   "outputs": [],
   "source": []
  },
  {
   "cell_type": "code",
   "execution_count": 27,
   "metadata": {},
   "outputs": [
    {
     "data": {
      "text/plain": [
       "0.96495"
      ]
     },
     "execution_count": 27,
     "metadata": {},
     "output_type": "execute_result"
    }
   ],
   "source": [
    "acc"
   ]
  },
  {
   "cell_type": "code",
   "execution_count": 28,
   "metadata": {},
   "outputs": [],
   "source": [
    "from sklearn.base import BaseEstimator\n",
    "class Never5Classifier(BaseEstimator):\n",
    "    def fit(self,X,y=None):\n",
    "        pass\n",
    "    def predict(self ,X):\n",
    "        return np.zeros((len(X),1),dtype=bool)"
   ]
  },
  {
   "cell_type": "code",
   "execution_count": 29,
   "metadata": {},
   "outputs": [],
   "source": [
    "never5_clf=Never5Classifier()"
   ]
  },
  {
   "cell_type": "code",
   "execution_count": 34,
   "metadata": {},
   "outputs": [
    {
     "data": {
      "text/plain": [
       "array([0.909  , 0.90715, 0.9128 ])"
      ]
     },
     "execution_count": 34,
     "metadata": {},
     "output_type": "execute_result"
    }
   ],
   "source": [
    "cross_val_score(never5_clf,x_train,y_train_5,cv=3,scoring='accuracy')"
   ]
  },
  {
   "cell_type": "markdown",
   "metadata": {},
   "source": [
    "# Confusion Matrix"
   ]
  },
  {
   "cell_type": "markdown",
   "metadata": {},
   "source": [
    "a better way to evaluate performance of a classifier is confusion matrix\n",
    "GENERAL IDEA: COUNT THE NO OF TIMES INSTANCE OF CLASSES AS CLASSIFIED B"
   ]
  },
  {
   "cell_type": "markdown",
   "metadata": {},
   "source": [
    "To compute the confusion matrix,you first need to have a set of predictions,so they can be compared to the actual targets.You could makepredictions onthe test set,but let’s keep itu ntouched fornow (remember that you want to use the test setonly at theveryendofyour project,onceyouhaveaclassifier that you are ready to launch).Instead, you can use the cross_val_predict()function:\n"
   ]
  },
  {
   "cell_type": "code",
   "execution_count": 35,
   "metadata": {},
   "outputs": [],
   "source": [
    "from sklearn.model_selection import cross_val_predict\n",
    "y_train_pred=cross_val_predict(sgd_clf,x_train,y_train_5,cv=3)"
   ]
  },
  {
   "cell_type": "code",
   "execution_count": 36,
   "metadata": {},
   "outputs": [
    {
     "data": {
      "text/plain": [
       "array([[53272,  1307],\n",
       "       [ 1077,  4344]], dtype=int64)"
      ]
     },
     "execution_count": 36,
     "metadata": {},
     "output_type": "execute_result"
    }
   ],
   "source": [
    "from sklearn.metrics import confusion_matrix\n",
    "confusion_matrix(y_train_5,y_train_pred)"
   ]
  },
  {
   "cell_type": "code",
   "execution_count": 37,
   "metadata": {},
   "outputs": [
    {
     "ename": "NameError",
     "evalue": "name 'y_train_perfect_predictions' is not defined",
     "output_type": "error",
     "traceback": [
      "\u001b[1;31m---------------------------------------------------------------------------\u001b[0m",
      "\u001b[1;31mNameError\u001b[0m                                 Traceback (most recent call last)",
      "\u001b[1;32m<ipython-input-37-1019fe71e41c>\u001b[0m in \u001b[0;36m<module>\u001b[1;34m\u001b[0m\n\u001b[1;32m----> 1\u001b[1;33m \u001b[0mconfusion_matrix\u001b[0m\u001b[1;33m(\u001b[0m\u001b[0my_train_5\u001b[0m\u001b[1;33m,\u001b[0m\u001b[0my_train_perfect_predictions\u001b[0m\u001b[1;33m)\u001b[0m\u001b[1;33m\u001b[0m\u001b[1;33m\u001b[0m\u001b[0m\n\u001b[0m",
      "\u001b[1;31mNameError\u001b[0m: name 'y_train_perfect_predictions' is not defined"
     ]
    }
   ],
   "source": [
    "confusion_matrix(y_train_5,y_train_perfect_predictions)"
   ]
  },
  {
   "cell_type": "markdown",
   "metadata": {},
   "source": [
    "here we have to know the accuarcy of positive predictions(precision)or specificity"
   ]
  },
  {
   "cell_type": "markdown",
   "metadata": {},
   "source": [
    "precision=tp/tp+fp\n",
    "here 8505 is tn and 603 fp and 139 as fn and 753 as tp"
   ]
  },
  {
   "cell_type": "markdown",
   "metadata": {},
   "source": [
    "RECALL=TP/TP+FN "
   ]
  },
  {
   "cell_type": "code",
   "execution_count": null,
   "metadata": {},
   "outputs": [],
   "source": [
    "from sklearn.metrics import precision_score,recall_score,f1_score\n",
    "precision_score(y_train_5,y_train_pred)"
   ]
  },
  {
   "cell_type": "code",
   "execution_count": null,
   "metadata": {},
   "outputs": [],
   "source": [
    "recall_score(y_train_5,y_train_pred)"
   ]
  },
  {
   "cell_type": "code",
   "execution_count": null,
   "metadata": {},
   "outputs": [],
   "source": [
    "#we can use f1 score which is useful when comparing two classifiers\n",
    "f1_score(y_train_5,y_train_pred)"
   ]
  },
  {
   "cell_type": "markdown",
   "metadata": {},
   "source": [
    "# PRECISION RECALL TRADEOFF"
   ]
  },
  {
   "cell_type": "markdown",
   "metadata": {},
   "source": [
    "To understand this tradeoff, let’s look at how the SGDClassifier mak sits classification decisions. For each instance, it computes a score based on a decision function, and ifthat score is greater than a threshold, it assigns the instance to the positive class, or els it assigns it to the negative class."
   ]
  },
  {
   "cell_type": "code",
   "execution_count": 38,
   "metadata": {},
   "outputs": [
    {
     "data": {
      "text/plain": [
       "array([161855.74572176])"
      ]
     },
     "execution_count": 38,
     "metadata": {},
     "output_type": "execute_result"
    }
   ],
   "source": [
    " #DECISION FUNCTION\n",
    "    #PROCESS: HERE WE HAVE TO FND THE DECISION SCORES FOR EACH INSTANCE USING DECISION FUNCTION INSTEAD OF PREDICT FUNCTION.\n",
    "    #2. AFTER GETTING DECISION SCORES WE HAVE TO PREDICT BASED ON THE THRESHOLD VALUE.\n",
    "    #HERE WE NAMED DECISION SCORES AS Y_SCORES\n",
    "y_scores=sgd_clf.decision_function([some_digit])\n",
    "y_scores"
   ]
  },
  {
   "cell_type": "code",
   "execution_count": 39,
   "metadata": {},
   "outputs": [
    {
     "data": {
      "text/plain": [
       "array([ True])"
      ]
     },
     "execution_count": 39,
     "metadata": {},
     "output_type": "execute_result"
    }
   ],
   "source": [
    "#above we got the decisioon score for the some digit instance\n",
    "#now we have to set threshold value\n",
    "threshold=0\n",
    "#now we have to predict the some digit (is it greater than threshold or not(we  r predicting based on threshold))\n",
    "y_some_digit_pred=(y_scores>threshold)\n",
    "y_some_digit_pred"
   ]
  },
  {
   "cell_type": "code",
   "execution_count": 40,
   "metadata": {},
   "outputs": [
    {
     "data": {
      "text/plain": [
       "array([False])"
      ]
     },
     "execution_count": 40,
     "metadata": {},
     "output_type": "execute_result"
    }
   ],
   "source": [
    "y_scores=sgd_clf.decision_function([some_digit])\n",
    "y_scores\n",
    "threshold=200000\n",
    "y_some_digit_pred=(y_scores>threshold)\n",
    "y_some_digit_pred"
   ]
  },
  {
   "cell_type": "markdown",
   "metadata": {},
   "source": [
    "if u increases threshold the 5detector unabel to recognise 5"
   ]
  },
  {
   "cell_type": "code",
   "execution_count": 41,
   "metadata": {},
   "outputs": [],
   "source": [
    "y_scores=cross_val_predict(sgd_clf,x_train,y_train_5,cv=3,method='decision_function')"
   ]
  },
  {
   "cell_type": "code",
   "execution_count": 42,
   "metadata": {},
   "outputs": [
    {
     "data": {
      "text/plain": [
       "(60000,)"
      ]
     },
     "execution_count": 42,
     "metadata": {},
     "output_type": "execute_result"
    }
   ],
   "source": [
    "y_scores.shape"
   ]
  },
  {
   "cell_type": "code",
   "execution_count": 43,
   "metadata": {},
   "outputs": [],
   "source": [
    "# hack to work around issue #9589 in Scikit-Learn 0.19.0\n",
    "if y_scores.ndim == 2:\n",
    "    y_scores = y_scores[:, 1]"
   ]
  },
  {
   "cell_type": "code",
   "execution_count": 44,
   "metadata": {},
   "outputs": [],
   "source": [
    "from sklearn.metrics import precision_recall_curve\n",
    "precisions,recalls,thresholds=precision_recall_curve(y_train_5,y_scores)"
   ]
  },
  {
   "cell_type": "code",
   "execution_count": 45,
   "metadata": {},
   "outputs": [
    {
     "name": "stdout",
     "output_type": "stream",
     "text": [
      "Saving figure precision_recall_vs_threshold_plot\n"
     ]
    },
    {
     "data": {
      "image/png": "[encoded data removed]",
      "text/plain": [
       "<Figure size 576x288 with 1 Axes>"
      ]
     },
     "metadata": {
      "needs_background": "light"
     },
     "output_type": "display_data"
    }
   ],
   "source": [
    "def plot_precision_recall_vs_threshold(precisions, recalls, thresholds):\n",
    "    plt.plot(thresholds, precisions[:-1], \"b--\", label=\"Precision\", linewidth=2)\n",
    "    plt.plot(thresholds, recalls[:-1], \"g-\", label=\"Recall\", linewidth=2)\n",
    "    plt.xlabel(\"Threshold\", fontsize=16)\n",
    "    plt.legend(loc=\"upper left\", fontsize=16)\n",
    "    plt.ylim([0, 1])\n",
    "plt.figure(figsize=(8, 4))\n",
    "plot_precision_recall_vs_threshold(precisions, recalls, thresholds)\n",
    "plt.xlim([-700000, 700000])\n",
    "save_fig(\"precision_recall_vs_threshold_plot\")\n",
    "plt.show()\n"
   ]
  },
  {
   "cell_type": "code",
   "execution_count": 46,
   "metadata": {},
   "outputs": [
    {
     "name": "stdout",
     "output_type": "stream",
     "text": [
      "Saving figure precision_vs_recall_plot\n"
     ]
    },
    {
     "data": {
      "image/png": "[encoded data removed]",
      "text/plain": [
       "<Figure size 576x432 with 1 Axes>"
      ]
     },
     "metadata": {
      "needs_background": "light"
     },
     "output_type": "display_data"
    }
   ],
   "source": [
    " def plot_precision_vs_recall(precisions,recalls):\n",
    "        plt.plot(recalls,precisions,'b-',linewidth=2)\n",
    "        plt.ylabel('precision',fontsize=16)\n",
    "        plt.xlabel('recall',fontsize=16)\n",
    "        plt.axis([0,1,0,1])\n",
    "plt.figure(figsize=(8, 6))\n",
    "plot_precision_vs_recall(precisions, recalls)\n",
    "save_fig(\"precision_vs_recall_plot\")\n",
    "plt.show()\n",
    "    "
   ]
  },
  {
   "cell_type": "markdown",
   "metadata": {},
   "source": [
    "here the precision drops at 80% of recall.... so we have select threshold before it drops\n",
    "for suppose we want precision of 90% then we have to put threshold about 70000"
   ]
  },
  {
   "cell_type": "code",
   "execution_count": 47,
   "metadata": {},
   "outputs": [],
   "source": [
    "# here we want 90 precision so we create a vaiable 'y_train_pred_90 ' by giving condition y_score(decision score) greater than the 70000\n",
    "y_train_pred_90=(y_scores>70000)"
   ]
  },
  {
   "cell_type": "code",
   "execution_count": 48,
   "metadata": {},
   "outputs": [
    {
     "ename": "NameError",
     "evalue": "name 'precision_score' is not defined",
     "output_type": "error",
     "traceback": [
      "\u001b[1;31m---------------------------------------------------------------------------\u001b[0m",
      "\u001b[1;31mNameError\u001b[0m                                 Traceback (most recent call last)",
      "\u001b[1;32m<ipython-input-48-ef8458518506>\u001b[0m in \u001b[0;36m<module>\u001b[1;34m\u001b[0m\n\u001b[0;32m      1\u001b[0m \u001b[1;31m# chek this variable can give 90 precision or not\u001b[0m\u001b[1;33m\u001b[0m\u001b[1;33m\u001b[0m\u001b[1;33m\u001b[0m\u001b[0m\n\u001b[1;32m----> 2\u001b[1;33m \u001b[0mprecision_score\u001b[0m\u001b[1;33m(\u001b[0m\u001b[0my_train_5\u001b[0m\u001b[1;33m,\u001b[0m \u001b[0my_train_pred_90\u001b[0m\u001b[1;33m)\u001b[0m\u001b[1;33m\u001b[0m\u001b[1;33m\u001b[0m\u001b[0m\n\u001b[0m",
      "\u001b[1;31mNameError\u001b[0m: name 'precision_score' is not defined"
     ]
    }
   ],
   "source": [
    "# chek this variable can give 90 precision or not \n",
    "precision_score(y_train_5, y_train_pred_90)"
   ]
  },
  {
   "cell_type": "code",
   "execution_count": null,
   "metadata": {},
   "outputs": [],
   "source": [
    "recall_score(y_train_5,y_train_pred_90)"
   ]
  },
  {
   "cell_type": "markdown",
   "metadata": {},
   "source": [
    "#a high precision classifier is not very useful if it has low recall"
   ]
  },
  {
   "cell_type": "markdown",
   "metadata": {},
   "source": [
    "if someone says 'lets reach 99% precision', u shouls ask him 'at what recall'"
   ]
  },
  {
   "cell_type": "markdown",
   "metadata": {},
   "source": [
    "# THE ROC CURVE"
   ]
  },
  {
   "cell_type": "markdown",
   "metadata": {},
   "source": [
    "1.The receiver operating characteristic curve(ROC) another common tool used with classifiers"
   ]
  },
  {
   "cell_type": "markdown",
   "metadata": {},
   "source": [
    "2.it plots the True Positive Rate(TPR OR RECALL) versus False Positive Rate(FPR)"
   ]
  },
  {
   "cell_type": "markdown",
   "metadata": {},
   "source": [
    "3.FPR is the ratio of the negative instances that are wrongly classifid as positive"
   ]
  },
  {
   "cell_type": "markdown",
   "metadata": {},
   "source": [
    "4.so it is  equal to 1-TNR (which is the ratio of the negative instances that are correctly  classified as negative\n",
    "        s0    FPR=1-TNR                "
   ]
  },
  {
   "cell_type": "markdown",
   "metadata": {},
   "source": [
    "5.HERE TNR is also called as precision or specifity. so FPR=1-SPECIFICITY"
   ]
  },
  {
   "cell_type": "markdown",
   "metadata": {},
   "source": [
    "6.hence ROC CURVE plots between recall vs 1-precision"
   ]
  },
  {
   "cell_type": "code",
   "execution_count": 49,
   "metadata": {},
   "outputs": [],
   "source": [
    "#first we have to compute the fpr,tpr to plot ROC curve\n",
    "from sklearn.metrics import roc_curve\n",
    "tpr,fpr,threshold=roc_curve(y_train_5,y_scores)\n",
    "#by above code, we will get the tpr, fpr values"
   ]
  },
  {
   "cell_type": "code",
   "execution_count": 50,
   "metadata": {},
   "outputs": [
    {
     "data": {
      "text/plain": [
       "array([0.        , 0.        , 0.        , ..., 0.99446674, 0.99446674,\n",
       "       1.        ])"
      ]
     },
     "execution_count": 50,
     "metadata": {},
     "output_type": "execute_result"
    }
   ],
   "source": [
    "tpr"
   ]
  },
  {
   "cell_type": "code",
   "execution_count": 51,
   "metadata": {},
   "outputs": [
    {
     "data": {
      "text/plain": [
       "array([0.00000000e+00, 1.84467810e-04, 3.87382402e-03, ...,\n",
       "       9.99815532e-01, 1.00000000e+00, 1.00000000e+00])"
      ]
     },
     "execution_count": 51,
     "metadata": {},
     "output_type": "execute_result"
    }
   ],
   "source": [
    "fpr"
   ]
  },
  {
   "cell_type": "code",
   "execution_count": 52,
   "metadata": {},
   "outputs": [
    {
     "data": {
      "image/png": "[encoded data removed]",
      "text/plain": [
       "<Figure size 432x288 with 1 Axes>"
      ]
     },
     "metadata": {
      "needs_background": "light"
     },
     "output_type": "display_data"
    }
   ],
   "source": [
    "#after getting the values fpr,tpr we can plot tpr vs fpr usig matplotlib\n",
    "def plot_roc_curve(tpr,fpr,label=None):\n",
    "    plt.plot(tpr,fpr,linewidth=2)\n",
    "    plt.plot([0,1],[0,1],'k--')\n",
    "    plt.axis([0,1,0,1])\n",
    "    plt.ylabel('false positive rate')\n",
    "    plt.xlabel('true positive rate')\n",
    "plot_roc_curve(tpr,fpr)\n",
    "plt.show()"
   ]
  },
  {
   "cell_type": "code",
   "execution_count": 53,
   "metadata": {},
   "outputs": [
    {
     "name": "stdout",
     "output_type": "stream",
     "text": [
      "Saving figure roc_curve_plot\n"
     ]
    },
    {
     "data": {
      "image/png": "[encoded data removed]",
      "text/plain": [
       "<Figure size 576x432 with 1 Axes>"
      ]
     },
     "metadata": {
      "needs_background": "light"
     },
     "output_type": "display_data"
    }
   ],
   "source": [
    "def plot_roc_curve(fpr, tpr, label=None):\n",
    "    plt.plot(fpr, tpr, linewidth=2, label=label)\n",
    "    plt.plot([0, 1], [0, 1], 'k--')\n",
    "    plt.axis([0, 1, 0, 1])\n",
    "    plt.xlabel('False Positive Rate', fontsize=16)\n",
    "    plt.ylabel('True Positive Rate', fontsize=16)\n",
    "\n",
    "plt.figure(figsize=(8, 6))\n",
    "plot_roc_curve(fpr, tpr)\n",
    "save_fig(\"roc_curve_plot\")\n",
    "plt.show()"
   ]
  },
  {
   "cell_type": "markdown",
   "metadata": {},
   "source": [
    "#the higher recall(tpr) , the more fpr classifier produces"
   ]
  },
  {
   "cell_type": "markdown",
   "metadata": {},
   "source": [
    "2.the dotted line is the roc curve of purely random classifier"
   ]
  },
  {
   "cell_type": "markdown",
   "metadata": {},
   "source": [
    "3.the good classifier stays as far away from that dotted line"
   ]
  },
  {
   "cell_type": "markdown",
   "metadata": {},
   "source": [
    "4.we can compare the classifiers with AREA UNDER CURVE(AUC)"
   ]
  },
  {
   "cell_type": "markdown",
   "metadata": {},
   "source": [
    "5.perfect classifier will have auc score equal to 1 whereas purely classifier will have auc equal to 0.5"
   ]
  },
  {
   "cell_type": "markdown",
   "metadata": {},
   "source": [
    "6.BY USING roc_curve_auc we can get the auc score"
   ]
  },
  {
   "cell_type": "code",
   "execution_count": 54,
   "metadata": {},
   "outputs": [
    {
     "data": {
      "text/plain": [
       "0.9624496555967156"
      ]
     },
     "execution_count": 54,
     "metadata": {},
     "output_type": "execute_result"
    }
   ],
   "source": [
    "from sklearn.metrics import roc_auc_score\n",
    "roc_auc_score(y_train_5,y_scores)"
   ]
  },
  {
   "cell_type": "markdown",
   "metadata": {},
   "source": [
    "lets train a random forest classifier and compare its roc curve and auc score with sgd classifier"
   ]
  },
  {
   "cell_type": "markdown",
   "metadata": {},
   "source": [
    "so first u need  to get the decision scores for each instance in the training set."
   ]
  },
  {
   "cell_type": "markdown",
   "metadata": {},
   "source": [
    "but random forest classifier doesnt have decision fnction method.so what to do??"
   ]
  },
  {
   "cell_type": "markdown",
   "metadata": {},
   "source": [
    "instead of decision function random forest has predict_proba function method. so what is predict proba?? and how it works???"
   ]
  },
  {
   "cell_type": "markdown",
   "metadata": {},
   "source": [
    "PREDICT_PROBA() returns an array with a row per instance, a column for each class,each contaning the probability that the given image belongs to 5 or not5"
   ]
  },
  {
   "cell_type": "code",
   "execution_count": 55,
   "metadata": {},
   "outputs": [],
   "source": [
    "# need to get the scores for each instances\n",
    "from sklearn.ensemble import RandomForestClassifier\n",
    "forest_clf=RandomForestClassifier(n_estimators=10,random_state=42)\n",
    "y_proba_forest=cross_val_predict(forest_clf,x_train,y_train_5,cv=3,method='predict_proba')"
   ]
  },
  {
   "cell_type": "code",
   "execution_count": 56,
   "metadata": {},
   "outputs": [],
   "source": [
    "# here we got the probabilities of random forest classifier\n",
    "# but we need scores to plot roc curve ...... so we have to convert probabilitoes as scores \n",
    "#simple solution is to use positive class probability as score\n",
    "y_scores_forest=y_proba_forest[:,1]#this is positive class of proba\n",
    "fpr_forest,tpr_forest,thresholds_forest=roc_curve(y_train_5,y_scores_forest)"
   ]
  },
  {
   "cell_type": "code",
   "execution_count": 57,
   "metadata": {},
   "outputs": [
    {
     "data": {
      "image/png": "[encoded data removed]",
      "text/plain": [
       "<Figure size 432x288 with 1 Axes>"
      ]
     },
     "metadata": {
      "needs_background": "light"
     },
     "output_type": "display_data"
    }
   ],
   "source": [
    "plt.plot(fpr,tpr,'b:',label=\"SGD\")\n",
    "plot_roc_curve(fpr_forest,tpr_forest,\"RANDOM FOREST\")\n",
    "plt.legend(loc='lower right')\n",
    "plt.show()"
   ]
  },
  {
   "cell_type": "code",
   "execution_count": 58,
   "metadata": {},
   "outputs": [
    {
     "name": "stdout",
     "output_type": "stream",
     "text": [
      "Saving figure roc_curve_comparison_plot\n"
     ]
    },
    {
     "data": {
      "image/png": "[encoded data removed]",
      "text/plain": [
       "<Figure size 576x432 with 1 Axes>"
      ]
     },
     "metadata": {
      "needs_background": "light"
     },
     "output_type": "display_data"
    }
   ],
   "source": [
    "plt.figure(figsize=(8, 6))\n",
    "plt.plot(fpr, tpr, \"b:\", linewidth=2, label=\"SGD\")\n",
    "plot_roc_curve(fpr_forest, tpr_forest, \"Random Forest\")\n",
    "plt.legend(loc=\"lower right\", fontsize=16)\n",
    "save_fig(\"roc_curve_comparison_plot\")\n",
    "plt.show()"
   ]
  },
  {
   "cell_type": "code",
   "execution_count": 59,
   "metadata": {},
   "outputs": [
    {
     "data": {
      "text/plain": [
       "0.9931243366003829"
      ]
     },
     "execution_count": 59,
     "metadata": {},
     "output_type": "execute_result"
    }
   ],
   "source": [
    "roc_auc_score(y_train_5,y_scores_forest)"
   ]
  },
  {
   "cell_type": "code",
   "execution_count": 60,
   "metadata": {},
   "outputs": [
    {
     "data": {
      "text/plain": [
       "0.9624496555967156"
      ]
     },
     "execution_count": 60,
     "metadata": {},
     "output_type": "execute_result"
    }
   ],
   "source": [
    "roc_auc_score(y_train_5,y_scores)"
   ]
  },
  {
   "cell_type": "code",
   "execution_count": 61,
   "metadata": {},
   "outputs": [],
   "source": [
    "y_pred_forest=cross_val_predict(forest_clf,x_train,y_train_5,cv=3)"
   ]
  },
  {
   "cell_type": "code",
   "execution_count": 67,
   "metadata": {},
   "outputs": [
    {
     "data": {
      "text/plain": [
       "0.9852973447443494"
      ]
     },
     "execution_count": 67,
     "metadata": {},
     "output_type": "execute_result"
    }
   ],
   "source": [
    "from sklearn.metrics import precision_score, recall_score\n",
    "precision_score(y_train_5,y_pred_forest)"
   ]
  },
  {
   "cell_type": "code",
   "execution_count": 68,
   "metadata": {},
   "outputs": [
    {
     "data": {
      "text/plain": [
       "0.8282604685482383"
      ]
     },
     "execution_count": 68,
     "metadata": {},
     "output_type": "execute_result"
    }
   ],
   "source": [
    "recall_score(y_train_5,y_pred_forest)"
   ]
  },
  {
   "cell_type": "markdown",
   "metadata": {},
   "source": [
    "so we have 98.5% precision and 82% recall.. this is not bad"
   ]
  },
  {
   "cell_type": "markdown",
   "metadata": {},
   "source": [
    "Hopefully you now know how to train binary classifiers, choose the appropriate metric for your task, evaluate your classifiers using cross-validation, select the precision/recall tradeoff  that fits your needs, and compare various models using ROC curves and ROC AUC scores.Now let’s try to detect more than just the 5s."
   ]
  },
  {
   "cell_type": "markdown",
   "metadata": {},
   "source": [
    "# Multiclass Classification "
   ]
  },
  {
   "cell_type": "markdown",
   "metadata": {},
   "source": [
    "whereas binary classifiers distinguish between two classes ,multi classifier distinguish between more than two classes"
   ]
  },
  {
   "cell_type": "markdown",
   "metadata": {},
   "source": [
    "Some algorithms (such as Random Forest classifiers or naive Bayes classifiers) are capable of handling multiple classes directly. Others (such as Support Vector Machine classifiers or Linear classifiers) are strictly binary classifiers. However,there are various strategies that you can use to perform multiclass classification using multiple binary classifiers. "
   ]
  },
  {
   "cell_type": "markdown",
   "metadata": {},
   "source": [
    "there are two various straregies."
   ]
  },
  {
   "cell_type": "markdown",
   "metadata": {},
   "source": [
    "1.\tone\tway\tto\tcreate\ta\tsystem\tthat\tcan\tclassify\tthe\tdigit\timages\tinto\t10\tclasses\t(from\t0\tto\t9)\tis to\ttrain\t10\tbinary\tclassifiers,\tone\tfor\teach\tdigit\t(a\t0-detector,\ta\t1-detector,\ta\t2-detector,\tand\tso\ton).\tThen when\tyou\twant\tto\tclassify\tan\timage,\tyou\tget\tthe\tdecision\tscore\tfrom\teach\tclassifier\tfor\tthat\timage\tand\tyou select\tthe\tclass\twhose\tclassifier outputs the highest score. This is called the one-versus-all (OvA) strategy (also called one-versus-the-rest)."
   ]
  },
  {
   "cell_type": "markdown",
   "metadata": {},
   "source": [
    "2.Another\tstrategy\tis\tto\ttrain\ta\tbinary\tclassifier\tfor\tevery\tpair\tof\tdigits:\tone\tto\tdistinguish\t0s\tand\t1s, another\tto\tdistinguish\t0s\tand\t2s,\tanother\tfor\t1s\tand\t2s,\tand\tso\ton.\tThis\tis\tcalled\tthe\tone-versus-one (OvO)\tstrategy.\tIf\tthere\tare\tN\tclasses,\tyou\tneed\tto\ttrain\tN\t×\t(N\t–\t1)\t/\t2\tclassifiers.\tFor\tthe\tMNIST problem,\tthis\tmeans\ttraining\t45\tbinary\tclassifiers!\tWhen\tyou\twant\tto\tclassify\tan\timage,\tyou\thave\tto\trun the\timage\tthrough\tall\t45\tclassifiers\tand\tsee\twhich\tclass\twins\tthe\tmost\tduels.\tThe\tmain\tadvantage\tof\tOvO is\tthat\teach\tclassifier\tonly\tneeds\tto\tbe\ttrained\ton\tthe\tpart\tof\tthe\ttraining\tset\tfor\tthe\ttwo\tclasses\tthat\tit\tmust distinguish."
   ]
  },
  {
   "cell_type": "markdown",
   "metadata": {},
   "source": [
    "Some\talgorithms\t(such\tas\tSupport\tVector\tMachine\tclassifiers)\tscale\tpoorly\twith\tthe\tsize\tof\tthe\ttraining set,\tso\tfor\tthese\talgorithms\tOvO\tis\tpreferred\tsince\tit\tis\tfaster\tto\ttrain\tmany\tclassifiers\ton\tsmall\ttraining sets\tthan\ttraining\tfew\tclassifiers\ton\tlarge\ttraining\tsets.\tFor\tmost\tbinary\tclassification\talgorithms, however,\tOvA\tis\tpreferred."
   ]
  },
  {
   "cell_type": "markdown",
   "metadata": {},
   "source": [
    "Scikit-Learn\tdetects\twhen\tyou\ttry\tto\tuse\ta\tbinary\tclassification\talgorithm\tfor\ta\tmulticlass\tclassification task,\tand\tit\tautomatically\truns\tOvA\t(except\tfor\tSVM\tclassifiers\tfor\twhich\tit\tuses\tOvO).\tLet’s\ttry\tthis\twith the\tSGDClassifier:\n"
   ]
  },
  {
   "cell_type": "code",
   "execution_count": 69,
   "metadata": {},
   "outputs": [
    {
     "data": {
      "text/plain": [
       "array([5], dtype=int8)"
      ]
     },
     "execution_count": 69,
     "metadata": {},
     "output_type": "execute_result"
    }
   ],
   "source": [
    "sgd_clf.fit(x_train,y_train)\n",
    "sgd_clf.predict([some_digit])"
   ]
  },
  {
   "cell_type": "markdown",
   "metadata": {},
   "source": [
    "That\twas\teasy!\tThis\tcode\ttrains\tthe\tSGDClassifier\ton\tthe\ttraining\tset\tusing\tthe\toriginal\ttarget\tclasses from\t0\tto\t9\t(y_train),\tinstead\tof\tthe\t5-versus-all\ttarget\tclasses\t(y_train_5).\tThen\tit\tmakes\ta\tprediction (a\tcorrect\tone\tin\tthis\tcase).\tUnder\tthe\thood,\tScikit-Learn\tactually\ttrained\t10\tbinary\tclassifiers,\tgot\ttheir decision\tscores\tfor\tthe\timage,\tand\tselected\tthe\tclass\twith\tthe\thighest\tscore. "
   ]
  },
  {
   "cell_type": "raw",
   "metadata": {},
   "source": [
    "To\tsee\tthat\tthis\tis\tindeed\tthe\tcase,\tyou\tcan\tcall\tthe\tdecision_function()\tmethod.\tInstead\tof\treturning just\tone\tscore\tper\tinstance,\tit\tnow\treturns\t10\tscores,\tone\tper\tclass:"
   ]
  },
  {
   "cell_type": "code",
   "execution_count": 70,
   "metadata": {},
   "outputs": [
    {
     "data": {
      "text/plain": [
       "array([[-311402.62954431, -363517.28355739, -446449.5306454 ,\n",
       "        -183226.61023518, -414337.15339485,  161855.74572176,\n",
       "        -452576.39616343, -471957.14962573, -518542.33997148,\n",
       "        -536774.63961222]])"
      ]
     },
     "execution_count": 70,
     "metadata": {},
     "output_type": "execute_result"
    }
   ],
   "source": [
    "#here we want decision scores for the classifier sgd. so we use decision function in sgd classifier giving some digit as data \n",
    "# and stored the scores in the variable some_digit_scores\n",
    "some_digit_scores=sgd_clf.decision_function([some_digit])\n",
    "some_digit_scores"
   ]
  },
  {
   "cell_type": "code",
   "execution_count": 71,
   "metadata": {},
   "outputs": [
    {
     "data": {
      "text/plain": [
       "161855.74572176492"
      ]
     },
     "execution_count": 71,
     "metadata": {},
     "output_type": "execute_result"
    }
   ],
   "source": [
    "some_digit_scores.max()"
   ]
  },
  {
   "cell_type": "code",
   "execution_count": 72,
   "metadata": {},
   "outputs": [
    {
     "data": {
      "text/plain": [
       "5"
      ]
     },
     "execution_count": 72,
     "metadata": {},
     "output_type": "execute_result"
    }
   ],
   "source": [
    "np.argmax(some_digit_scores)"
   ]
  },
  {
   "cell_type": "code",
   "execution_count": 73,
   "metadata": {},
   "outputs": [
    {
     "data": {
      "text/plain": [
       "array([0, 1, 2, 3, 4, 5, 6, 7, 8, 9], dtype=int8)"
      ]
     },
     "execution_count": 73,
     "metadata": {},
     "output_type": "execute_result"
    }
   ],
   "source": [
    "sgd_clf.classes_"
   ]
  },
  {
   "cell_type": "code",
   "execution_count": 74,
   "metadata": {},
   "outputs": [
    {
     "data": {
      "text/plain": [
       "5"
      ]
     },
     "execution_count": 74,
     "metadata": {},
     "output_type": "execute_result"
    }
   ],
   "source": [
    "sgd_clf.classes_[5]"
   ]
  },
  {
   "cell_type": "markdown",
   "metadata": {},
   "source": [
    "When\ta\tclassifier\tis\ttrained,\tit\tstores\tthe\tlist\tof\ttarget\tclasses\tin\tits\tclasses_\tattribute,\tordered\tby\tvalue"
   ]
  },
  {
   "cell_type": "markdown",
   "metadata": {},
   "source": [
    "If\tyou\twant\tto\tforce\tScikitLearn\tto\tuse\tone-versus-one\tor\tone-versus-all,\tyou\tcan\tuse\tthe OneVsOneClassifier\tor\tOneVsRestClassifier\tclasses.\tSimply\tcreate\tan\tinstance\tand\tpass\ta\tbinary classifier\tto\tits\tconstructor.\tFor\texample,\tthis\tcode\tcreates\ta\tmulticlass\tclassifier\tusing\tthe\tOvO\tstrategy, based\ton\ta\tSGDClassifier:\n"
   ]
  },
  {
   "cell_type": "code",
   "execution_count": 75,
   "metadata": {},
   "outputs": [
    {
     "data": {
      "text/plain": [
       "array([5], dtype=int8)"
      ]
     },
     "execution_count": 75,
     "metadata": {},
     "output_type": "execute_result"
    }
   ],
   "source": [
    "from sklearn.multiclass import OneVsOneClassifier\n",
    "ovo_clf=OneVsOneClassifier(SGDClassifier(max_iter=5,tol=-np.infty,random_state=42))\n",
    "ovo_clf.fit(x_train,y_train)\n",
    "ovo_clf.predict([some_digit])"
   ]
  },
  {
   "cell_type": "code",
   "execution_count": 76,
   "metadata": {},
   "outputs": [
    {
     "data": {
      "text/plain": [
       "45"
      ]
     },
     "execution_count": 76,
     "metadata": {},
     "output_type": "execute_result"
    }
   ],
   "source": [
    "len(ovo_clf.estimators_)"
   ]
  },
  {
   "cell_type": "markdown",
   "metadata": {},
   "source": [
    "train a random forest classifier:"
   ]
  },
  {
   "cell_type": "code",
   "execution_count": 77,
   "metadata": {},
   "outputs": [
    {
     "data": {
      "text/plain": [
       "array([5], dtype=int8)"
      ]
     },
     "execution_count": 77,
     "metadata": {},
     "output_type": "execute_result"
    }
   ],
   "source": [
    "forest_clf.fit(x_train,y_train)\n",
    "forest_clf.predict([some_digit])"
   ]
  },
  {
   "cell_type": "markdown",
   "metadata": {},
   "source": [
    "This\ttime\tScikit-Learn\tdid\tnot\thave\tto\trun\tOvA\tor\tOvO\tbecause\tRandom\tForest\tclassifiers\tcan\tdirectly classify\tinstances\tinto\tmultiple\tclasses.\tYou\tcan\tcall\tpredict_proba()\tto\tget\tthe\tlist\tof\tprobabilities\tthat the\tclassifier\tassigned\tto\teach\tinstance\tfor\teach\tclass:\n"
   ]
  },
  {
   "cell_type": "code",
   "execution_count": 78,
   "metadata": {},
   "outputs": [
    {
     "data": {
      "text/plain": [
       "array([[0.1, 0. , 0. , 0.1, 0. , 0.8, 0. , 0. , 0. , 0. ]])"
      ]
     },
     "execution_count": 78,
     "metadata": {},
     "output_type": "execute_result"
    }
   ],
   "source": [
    "forest_clf.predict_proba([some_digit])"
   ]
  },
  {
   "cell_type": "markdown",
   "metadata": {},
   "source": [
    "You\tcan\tsee\tthat\tthe\tclassifier\tis\tfairly\tconfident\tabout\tits\tprediction:\tthe\t0.8\tat\tthe\t5th\tindex\tin\tthe\tarray means\tthat\tthe\tmodel\testimates\tan\t80%\tprobability\tthat\tthe\timage\trepresents\ta\t5.\tIt\talso\tthinks\tthat\tthe image\tcould\tinstead\tbe\ta\t0\tor\ta\t3\t(10%\tchance\teach). "
   ]
  },
  {
   "cell_type": "markdown",
   "metadata": {},
   "source": [
    "Now\tof\tcourse\tyou\twant\tto\tevaluate\tthese\tclassifiers.\tAs\tusual,\tyou\twant\tto\tuse\tcross-validation.\tLet’s evaluate\tthe\tSGDClassifier’s\taccuracy\tusing\tthe\tcross_val_score()\tfunction:"
   ]
  },
  {
   "cell_type": "code",
   "execution_count": 79,
   "metadata": {},
   "outputs": [
    {
     "data": {
      "text/plain": [
       "array([0.84063187, 0.84899245, 0.86652998])"
      ]
     },
     "execution_count": 79,
     "metadata": {},
     "output_type": "execute_result"
    }
   ],
   "source": [
    "cross_val_score(sgd_clf,x_train,y_train,scoring='accuracy',cv=3)"
   ]
  },
  {
   "cell_type": "markdown",
   "metadata": {},
   "source": [
    "here the accuarcy is more than 84% in each test folds... and we can increase the accuracy by simply scaling the inputs"
   ]
  },
  {
   "cell_type": "code",
   "execution_count": 80,
   "metadata": {},
   "outputs": [
    {
     "data": {
      "text/plain": [
       "array([0.91011798, 0.90874544, 0.906636  ])"
      ]
     },
     "execution_count": 80,
     "metadata": {},
     "output_type": "execute_result"
    }
   ],
   "source": [
    "#scaling using standard scaler\n",
    "from sklearn.preprocessing import StandardScaler\n",
    "scaler=StandardScaler()\n",
    "x_train_scaled=scaler.fit_transform(x_train.astype(np.float64))\n",
    "cross_val_score(sgd_clf,x_train_scaled,y_train,cv=3,scoring='accuracy')"
   ]
  },
  {
   "cell_type": "markdown",
   "metadata": {},
   "source": [
    "now the accuracy reaches over 90% in each fold.... by scaling, the performance increases"
   ]
  },
  {
   "cell_type": "markdown",
   "metadata": {},
   "source": [
    "# ERROR ANALYSIS"
   ]
  },
  {
   "cell_type": "markdown",
   "metadata": {},
   "source": [
    "Of\tcourse,\tif\tthis\twere\ta\treal\tproject,\tyou\twould\tfollow\tthe\tsteps\tin\tyour\tMachine\tLearning\tproject checklist:\texploring\tdata\tpreparation\toptions,\ttrying\tout\tmultiple\tmodels,\tshortlisting the\tbest\tones\tand\tfine-tuning\ttheir\thyperparameters\tusing\tGridSearchCV,\tand\tautomating\tas\tmuch\tas possible,\tas\tyou\tdid\tin\tthe\tprevious\tchapter.\tHere,\twe\twill\tassume\tthat\tyou\thave\tfound\ta\tpromising\tmodel and\tyou\twant\tto\tfind\tways\tto\timprove\tit.\tOne\tway\tto\tdo\tthis\tis\tto\tanalyze\tthe\ttypes\tof\terrors\tit\tmakes. First,\tyou\tcan\tlook\tat\tthe\tconfusion\tmatrix.\tYou\tneed\tto\tmake\tpredictions\tusing\tthe cross_val_predict()\tfunction,\tthen\tcall\tthe\tconfusion_matrix()\tfunction,"
   ]
  },
  {
   "cell_type": "markdown",
   "metadata": {},
   "source": [
    "1.HERE WE WANT TO IMPROVE  OUR PROMISING MODEL\n"
   ]
  },
  {
   "cell_type": "markdown",
   "metadata": {},
   "source": [
    "2.SO WE HAVE TO FIND THE ERRORS HAPPENED IN IT"
   ]
  },
  {
   "cell_type": "markdown",
   "metadata": {},
   "source": [
    "3.TO KNOW THE WRONGLY CLASSIFIED INSTANCES(ERRORS) WE HAVE  TO USE CONFUSION_MATRIX WHICH SHOWS YOU FALSE POSITIVES, FALSE NGATIVES, TRUE POSITIVES, TRUE NEGATIVES"
   ]
  },
  {
   "cell_type": "code",
   "execution_count": 81,
   "metadata": {},
   "outputs": [],
   "source": [
    "#PREDICT USING CROSS_VAL_PREDICT BY SENDING CLASSIFIER, SCALED TRAINING SET, SCALED Y RAINING SET\n",
    "#HERE WE R USING Y_TRAN_PRED VARIABLE TO STORE PREDICTED SCORES \n",
    "y_train_pred=cross_val_predict(sgd_clf,x_train_scaled,y_train,cv=3)"
   ]
  },
  {
   "cell_type": "code",
   "execution_count": 82,
   "metadata": {},
   "outputs": [],
   "source": [
    "conf_mx=confusion_matrix(y_train,y_train_pred)"
   ]
  },
  {
   "cell_type": "code",
   "execution_count": 83,
   "metadata": {},
   "outputs": [
    {
     "data": {
      "text/plain": [
       "array([[5725,    3,   24,    9,   10,   49,   50,   10,   39,    4],\n",
       "       [   2, 6493,   43,   25,    7,   40,    5,   10,  109,    8],\n",
       "       [  51,   41, 5321,  104,   89,   26,   87,   60,  166,   13],\n",
       "       [  47,   46,  141, 5342,    1,  231,   40,   50,  141,   92],\n",
       "       [  19,   29,   41,   10, 5366,    9,   56,   37,   86,  189],\n",
       "       [  73,   45,   36,  193,   64, 4582,  111,   30,  193,   94],\n",
       "       [  29,   34,   44,    2,   42,   85, 5627,   10,   45,    0],\n",
       "       [  25,   24,   74,   32,   54,   12,    6, 5787,   15,  236],\n",
       "       [  52,  161,   73,  156,   10,  163,   61,   25, 5027,  123],\n",
       "       [  43,   35,   26,   92,  178,   28,    2,  223,   82, 5240]],\n",
       "      dtype=int64)"
      ]
     },
     "execution_count": 83,
     "metadata": {},
     "output_type": "execute_result"
    }
   ],
   "source": [
    "conf_mx"
   ]
  },
  {
   "cell_type": "markdown",
   "metadata": {},
   "source": [
    "theres lot of numbers...so for better understanding we need to plot this confusion matrix using matplotlib matshow( ) function"
   ]
  },
  {
   "cell_type": "code",
   "execution_count": 84,
   "metadata": {},
   "outputs": [
    {
     "data": {
      "text/plain": [
       "<matplotlib.image.AxesImage at 0x21780468400>"
      ]
     },
     "execution_count": 84,
     "metadata": {},
     "output_type": "execute_result"
    },
    {
     "data": {
      "image/png": "[encoded data removed]",
      "text/plain": [
       "<Figure size 288x288 with 1 Axes>"
      ]
     },
     "metadata": {
      "needs_background": "light"
     },
     "output_type": "display_data"
    }
   ],
   "source": [
    "plt.matshow(conf_mx,cmap=plt.cm.gray)"
   ]
  },
  {
   "cell_type": "markdown",
   "metadata": {},
   "source": [
    "This\tconfusion\tmatrix\tlooks\tfairly\tgood,\tsince\tmost\timages\tare\ton\tthe\tmain\tdiagonal,\twhich\tmeans\tthat they\twere\tclassified\tcorrectly.\tThe\t5s\tlook\tslightly\tdarker\tthan\tthe\tother\tdigits,\twhich\tcould\tmean\tthat there\tare\tfewer\timages\tof\t5s\tin\tthe\tdataset\tor\tthat\tthe\tclassifier\tdoes\tnot\tperform\tas\twell\ton\t5s\tas\ton\tother digits.\tIn\tfact,\tyou\tcan\tverify\tthat\tboth\tare\tthe\tcase. "
   ]
  },
  {
   "cell_type": "markdown",
   "metadata": {},
   "source": [
    "Let’s\tfocus\tthe\tplot\ton\tthe\terrors.\tFirst,\tyou\tneed\tto\tdivide\teach\tvalue\tin\tthe\tconfusion\tmatrix\tby\tthe number\tof\timages\tin\tthe\tcorresponding\tclass,\tso\tyou\tcan\tcompare\terror\trates\tinstead\tof\tabsolute\tnumber\n",
    "of\terrors\t(which\twould\tmake\tabundant\tclasses\tlook\tunfairly\tbad):\n"
   ]
  },
  {
   "cell_type": "code",
   "execution_count": 85,
   "metadata": {},
   "outputs": [],
   "source": [
    "row_sums=conf_mx.sum(axis=1,keepdims=True)"
   ]
  },
  {
   "cell_type": "code",
   "execution_count": 87,
   "metadata": {},
   "outputs": [
    {
     "data": {
      "text/plain": [
       "array([[5923],\n",
       "       [6742],\n",
       "       [5958],\n",
       "       [6131],\n",
       "       [5842],\n",
       "       [5421],\n",
       "       [5918],\n",
       "       [6265],\n",
       "       [5851],\n",
       "       [5949]], dtype=int64)"
      ]
     },
     "execution_count": 87,
     "metadata": {},
     "output_type": "execute_result"
    }
   ],
   "source": [
    "row_sums"
   ]
  },
  {
   "cell_type": "code",
   "execution_count": 88,
   "metadata": {},
   "outputs": [
    {
     "data": {
      "text/plain": [
       "array([[5725,    3,   24,    9,   10,   49,   50,   10,   39,    4],\n",
       "       [   2, 6493,   43,   25,    7,   40,    5,   10,  109,    8],\n",
       "       [  51,   41, 5321,  104,   89,   26,   87,   60,  166,   13],\n",
       "       [  47,   46,  141, 5342,    1,  231,   40,   50,  141,   92],\n",
       "       [  19,   29,   41,   10, 5366,    9,   56,   37,   86,  189],\n",
       "       [  73,   45,   36,  193,   64, 4582,  111,   30,  193,   94],\n",
       "       [  29,   34,   44,    2,   42,   85, 5627,   10,   45,    0],\n",
       "       [  25,   24,   74,   32,   54,   12,    6, 5787,   15,  236],\n",
       "       [  52,  161,   73,  156,   10,  163,   61,   25, 5027,  123],\n",
       "       [  43,   35,   26,   92,  178,   28,    2,  223,   82, 5240]],\n",
       "      dtype=int64)"
      ]
     },
     "execution_count": 88,
     "metadata": {},
     "output_type": "execute_result"
    }
   ],
   "source": [
    "conf_mx"
   ]
  },
  {
   "cell_type": "code",
   "execution_count": 91,
   "metadata": {},
   "outputs": [
    {
     "name": "stderr",
     "output_type": "stream",
     "text": [
      "C:\\Users\\91949\\Anaconda3\\lib\\site-packages\\ipykernel_launcher.py:1: RuntimeWarning: divide by zero encountered in true_divide\n",
      "  \"\"\"Entry point for launching an IPython kernel.\n"
     ]
    }
   ],
   "source": [
    "norm_conf_mx=row_sums/conf_mx"
   ]
  },
  {
   "cell_type": "code",
   "execution_count": 92,
   "metadata": {},
   "outputs": [
    {
     "data": {
      "text/plain": [
       "array([[1.03458515e+00, 1.97433333e+03, 2.46791667e+02, 6.58111111e+02,\n",
       "        5.92300000e+02, 1.20877551e+02, 1.18460000e+02, 5.92300000e+02,\n",
       "        1.51871795e+02, 1.48075000e+03],\n",
       "       [3.37100000e+03, 1.03834899e+00, 1.56790698e+02, 2.69680000e+02,\n",
       "        9.63142857e+02, 1.68550000e+02, 1.34840000e+03, 6.74200000e+02,\n",
       "        6.18532110e+01, 8.42750000e+02],\n",
       "       [1.16823529e+02, 1.45317073e+02, 1.11971434e+00, 5.72884615e+01,\n",
       "        6.69438202e+01, 2.29153846e+02, 6.84827586e+01, 9.93000000e+01,\n",
       "        3.58915663e+01, 4.58307692e+02],\n",
       "       [1.30446809e+02, 1.33282609e+02, 4.34822695e+01, 1.14769749e+00,\n",
       "        6.13100000e+03, 2.65411255e+01, 1.53275000e+02, 1.22620000e+02,\n",
       "        4.34822695e+01, 6.66413043e+01],\n",
       "       [3.07473684e+02, 2.01448276e+02, 1.42487805e+02, 5.84200000e+02,\n",
       "        1.08870667e+00, 6.49111111e+02, 1.04321429e+02, 1.57891892e+02,\n",
       "        6.79302326e+01, 3.09100529e+01],\n",
       "       [7.42602740e+01, 1.20466667e+02, 1.50583333e+02, 2.80880829e+01,\n",
       "        8.47031250e+01, 1.18310781e+00, 4.88378378e+01, 1.80700000e+02,\n",
       "        2.80880829e+01, 5.76702128e+01],\n",
       "       [2.04068966e+02, 1.74058824e+02, 1.34500000e+02, 2.95900000e+03,\n",
       "        1.40904762e+02, 6.96235294e+01, 1.05171495e+00, 5.91800000e+02,\n",
       "        1.31511111e+02,            inf],\n",
       "       [2.50600000e+02, 2.61041667e+02, 8.46621622e+01, 1.95781250e+02,\n",
       "        1.16018519e+02, 5.22083333e+02, 1.04416667e+03, 1.08259893e+00,\n",
       "        4.17666667e+02, 2.65466102e+01],\n",
       "       [1.12519231e+02, 3.63416149e+01, 8.01506849e+01, 3.75064103e+01,\n",
       "        5.85100000e+02, 3.58957055e+01, 9.59180328e+01, 2.34040000e+02,\n",
       "        1.16391486e+00, 4.75691057e+01],\n",
       "       [1.38348837e+02, 1.69971429e+02, 2.28807692e+02, 6.46630435e+01,\n",
       "        3.34213483e+01, 2.12464286e+02, 2.97450000e+03, 2.66771300e+01,\n",
       "        7.25487805e+01, 1.13530534e+00]])"
      ]
     },
     "execution_count": 92,
     "metadata": {},
     "output_type": "execute_result"
    }
   ],
   "source": [
    "norm_conf_mx"
   ]
  },
  {
   "cell_type": "code",
   "execution_count": 94,
   "metadata": {},
   "outputs": [
    {
     "data": {
      "image/png": "[encoded data removed]",
      "text/plain": [
       "<Figure size 288x288 with 1 Axes>"
      ]
     },
     "metadata": {
      "needs_background": "light"
     },
     "output_type": "display_data"
    }
   ],
   "source": [
    "#lets fill diagonal with zeros to keep onlythe errors\n",
    "np.fill_diagonal(norm_conf_mx,0)\n",
    "plt.matshow(norm_conf_mx,cmap=plt.cm.gray)\n",
    "plt.show()"
   ]
  },
  {
   "cell_type": "code",
   "execution_count": 99,
   "metadata": {},
   "outputs": [
    {
     "name": "stdout",
     "output_type": "stream",
     "text": [
      "Saving figure error_analysis_digits_plot\n"
     ]
    },
    {
     "data": {
      "image/png": "[encoded data removed]",
      "text/plain": [
       "<Figure size 576x576 with 4 Axes>"
      ]
     },
     "metadata": {
      "needs_background": "light"
     },
     "output_type": "display_data"
    }
   ],
   "source": [
    "cl_a, cl_b = 3, 5\n",
    "x_aa = x_train[(y_train == cl_a) & (y_train_pred == cl_a)]\n",
    "x_ab = x_train[(y_train == cl_a) & (y_train_pred == cl_b)]\n",
    "x_ba = x_train[(y_train == cl_b) & (y_train_pred == cl_a)]\n",
    "x_bb = x_train[(y_train == cl_b) & (y_train_pred == cl_b)]\n",
    "\n",
    "plt.figure(figsize=(8,8))\n",
    "plt.subplot(221); plot_digits(x_aa[:25], images_per_row=5)\n",
    "plt.subplot(222); plot_digits(x_ab[:25], images_per_row=5)\n",
    "plt.subplot(223); plot_digits(x_ba[:25], images_per_row=5)\n",
    "plt.subplot(224); plot_digits(x_bb[:25], images_per_row=5)\n",
    "save_fig(\"error_analysis_digits_plot\")\n",
    "plt.show()"
   ]
  },
  {
   "cell_type": "markdown",
   "metadata": {},
   "source": [
    "The\ttwo\t5×5\tblocks\ton\tthe\tleft\tshow\tdigits\tclassified\tas\t3s,\tand\tthe\ttwo\t5×5\tblocks\ton\tthe\tright\tshow images\tclassified\tas\t5s.\tSome\tof\tthe\tdigits\tthat\tthe\tclassifier\tgets\twrong\t(i.e.,\tin\tthe\tbottom-left\tand\ttopright\tblocks)\tare\tso\tbadly\twritten\tthat\teven\ta\thuman\twould\thave\ttrouble\tclassifying\tthem\t(e.g.,\tthe\t5\ton the\t8th\trow\tand\t1st\tcolumn\ttruly\tlooks\tlike\ta\t3).\tHowever,\tmost\tmisclassified\timages\tseem\tlike\tobvious errors\tto\tus,\tand\tit’s\thard\tto\tunderstand\twhy\tthe\tclassifier\tmade\tthe\tmistakes\tit\tdid.3\tThe\treason\tis\tthat\twe used\ta\tsimple\tSGDClassifier,\twhich\tis\ta\tlinear\tmodel.\tAll\tit\tdoes\tis\tassign\ta\tweight\tper\tclass\tto\teach pixel,\tand\twhen\tit\tsees\ta\tnew\timage\tit\tjust\tsums\tup\tthe\tweighted\tpixel\tintensities\tto\tget\ta\tscore\tfor\teach\n",
    "class.\tSo\tsince\t3s\tand\t5s\tdiffer\tonly\tby\ta\tfew\tpixels,\tthis\tmodel\twill\teasily\tconfuse\tthem. The\tmain\tdifference\tbetween\t3s\tand\t5s\tis\tthe\tposition\tof\tthe\tsmall\tline\tthat\tjoins\tthe\ttop\tline\tto\tthe\tbottom arc.\tIf\tyou\tdraw\ta\t3\twith\tthe\tjunction\tslightly\tshifted\tto\tthe\tleft,\tthe\tclassifier\tmight\tclassify\tit\tas\ta\t5,\tand vice\tversa.\tIn\tother\twords,\tthis\tclassifier\tis\tquite\tsensitive\tto\timage\tshifting\tand\trotation.\tSo\tone\tway\tto reduce\tthe\t3/5\tconfusion\twould\tbe\tto\tpreprocess\tthe\timages\tto\tensure\tthat\tthey\tare\twell\tcentered\tand\tnot too\trotated.\tThis\twill\tprobably\thelp\treduce\tother\terrors\tas\twell"
   ]
  },
  {
   "cell_type": "markdown",
   "metadata": {},
   "source": [
    "# Multilabel\tClassification"
   ]
  },
  {
   "cell_type": "markdown",
   "metadata": {},
   "source": [
    "Until\tnow\teach\tinstance\thas\talways\tbeen\tassigned\tto\tjust\tone\tclass.\tIn\tsome\tcases\tyou\tmay\twant\tyour classifier\tto\toutput\tmultiple\tclasses\tfor\teach\tinstance.\tFor\texample,\tconsider\ta\tface-recognition classifier:\twhat\tshould\tit\tdo\tif\tit\trecognizes\tseveral\tpeople\ton\tthe\tsame\tpicture?\tOf\tcourse\tit\tshould attach\tone\tlabel\tper\tperson\tit\trecognizes.\tSay\tthe\tclassifier\thas\tbeen\ttrained\tto\trecognize\tthree\tfaces, Alice,\tBob,\tand\tCharlie;\tthen\twhen\tit\tis\tshown\ta\tpicture\tof\tAlice\tand\tCharlie,\tit\tshould\toutput\t[1,\t0,\t1] (meaning\t“Alice\tyes,\tBob\tno,\tCharlie\tyes”).\tSuch\ta\tclassification\tsystem\tthat\toutputs\tmultiple\tbinary labels\tis\tcalled\ta\tmultilabel\tclassification\tsystem. "
   ]
  },
  {
   "cell_type": "code",
   "execution_count": 103,
   "metadata": {},
   "outputs": [
    {
     "data": {
      "text/plain": [
       "KNeighborsClassifier(algorithm='auto', leaf_size=30, metric='minkowski',\n",
       "           metric_params=None, n_jobs=None, n_neighbors=5, p=2,\n",
       "           weights='uniform')"
      ]
     },
     "execution_count": 103,
     "metadata": {},
     "output_type": "execute_result"
    }
   ],
   "source": [
    "from sklearn.neighbors import KNeighborsClassifier\n",
    "y_train_large=(y_train>=7)#creating label\n",
    "y_train_odd=(y_train%2==1)\n",
    "y_multilabel=np.c_[y_train_large,y_train_odd]\n",
    "knn_clf=KNeighborsClassifier()\n",
    "knn_clf.fit(x_train,y_multilabel)"
   ]
  },
  {
   "cell_type": "markdown",
   "metadata": {},
   "source": [
    "This\tcode\tcreates\ta\ty_multilabel\tarray\tcontaining\ttwo\ttarget\tlabels\tfor\teach\tdigit\timage:\tthe\tfirst indicates\twhether\tor\tnot\tthe\tdigit\tis\tlarge\t(7,\t8,\tor\t9)\tand\tthe\tsecond\tindicates\twhether\tor\tnot\tit\tis\todd. The\tnext\tlines\tcreate\ta\tKNeighborsClassifier\tinstance\t(which\tsupports\tmultilabel\tclassification,\tbut not\tall\tclassifiers\tdo)\tand\twe\ttrain\tit\tusing\tthe\tmultiple\ttargets\tarray.\tNow\tyou\tcan\tmake\ta\tprediction,\tand notice\tthat\tit\toutputs\ttwo\tlabels:\n"
   ]
  },
  {
   "cell_type": "code",
   "execution_count": 104,
   "metadata": {},
   "outputs": [
    {
     "data": {
      "text/plain": [
       "array([[False,  True]])"
      ]
     },
     "execution_count": 104,
     "metadata": {},
     "output_type": "execute_result"
    }
   ],
   "source": [
    "#prdicting using predict function with knn classifier\n",
    "knn_clf.predict([some_digit])"
   ]
  },
  {
   "cell_type": "markdown",
   "metadata": {},
   "source": [
    "the digit is 5 indded its not large and odd"
   ]
  },
  {
   "cell_type": "code",
   "execution_count": 106,
   "metadata": {},
   "outputs": [
    {
     "ename": "NameError",
     "evalue": "name 'f1_score' is not defined",
     "output_type": "error",
     "traceback": [
      "\u001b[1;31m---------------------------------------------------------------------------\u001b[0m",
      "\u001b[1;31mNameError\u001b[0m                                 Traceback (most recent call last)",
      "\u001b[1;32m<ipython-input-106-fba899e2f4ba>\u001b[0m in \u001b[0;36m<module>\u001b[1;34m\u001b[0m\n\u001b[0;32m      1\u001b[0m \u001b[0my_train_knn_pred\u001b[0m \u001b[1;33m=\u001b[0m \u001b[0mcross_val_predict\u001b[0m\u001b[1;33m(\u001b[0m\u001b[0mknn_clf\u001b[0m\u001b[1;33m,\u001b[0m \u001b[0mx_train\u001b[0m\u001b[1;33m,\u001b[0m \u001b[0my_multilabel\u001b[0m\u001b[1;33m,\u001b[0m \u001b[0mcv\u001b[0m\u001b[1;33m=\u001b[0m\u001b[1;36m3\u001b[0m\u001b[1;33m,\u001b[0m \u001b[0mn_jobs\u001b[0m\u001b[1;33m=\u001b[0m\u001b[1;33m-\u001b[0m\u001b[1;36m1\u001b[0m\u001b[1;33m)\u001b[0m\u001b[1;33m\u001b[0m\u001b[1;33m\u001b[0m\u001b[0m\n\u001b[1;32m----> 2\u001b[1;33m \u001b[0mf1_score\u001b[0m\u001b[1;33m(\u001b[0m\u001b[0my_multilabel\u001b[0m\u001b[1;33m,\u001b[0m \u001b[0my_train_knn_pred\u001b[0m\u001b[1;33m,\u001b[0m \u001b[0maverage\u001b[0m\u001b[1;33m=\u001b[0m\u001b[1;34m\"macro\"\u001b[0m\u001b[1;33m)\u001b[0m\u001b[1;33m\u001b[0m\u001b[1;33m\u001b[0m\u001b[0m\n\u001b[0m",
      "\u001b[1;31mNameError\u001b[0m: name 'f1_score' is not defined"
     ]
    }
   ],
   "source": [
    "y_train_knn_pred = cross_val_predict(knn_clf, x_train, y_multilabel, cv=3, n_jobs=-1)\n",
    "f1_score(y_multilabel, y_train_knn_pred, average=\"macro\")"
   ]
  },
  {
   "cell_type": "markdown",
   "metadata": {},
   "source": [
    "# Multioutput\tClassification"
   ]
  },
  {
   "cell_type": "markdown",
   "metadata": {},
   "source": [
    "The\tlast\ttype\tof\tclassification\ttask\twe\tare\tgoing\tto\tdiscuss\there\tis\tcalled\tmultioutput-multiclass classification\t(or\tsimply\tmultioutput\tclassification).\tIt\tis\tsimply\ta\tgeneralization\tof\tmultilabel classification\twhere\teach\tlabel\tcan\tbe\tmulticlass\t(i.e.,\tit\tcan\thave\tmore\tthan\ttwo\tpossible\tvalues). To\tillustrate\tthis,\tlet’s\tbuild\ta\tsystem\tthat\tremoves\tnoise\tfrom\timages.\tIt\twill\ttake\tas\tinput\ta\tnoisy\tdigit image,\tand\tit\twill\t(hopefully)\toutput\ta\tclean\tdigit\timage,\trepresented\tas\tan\tarray\tof\tpixel\tintensities,\tjust like\tthe\tMNIST\timages.\tNotice\tthat\tthe\tclassifier’s\toutput\tis\tmultilabel\t(one\tlabel\tper\tpixel)\tand\teach label\tcan\thave\tmultiple\tvalues\t(pixel\tintensity\tranges\tfrom\t0\tto\t255).\tIt\tis\tthus\tan\texample\tof\ta\tmultioutput classification\tsystem.\n"
   ]
  },
  {
   "cell_type": "markdown",
   "metadata": {},
   "source": []
  },
  {
   "cell_type": "markdown",
   "metadata": {},
   "source": [
    "#first find noise data\n",
    "Let’s\tstart\tby\tcreating\tthe\ttraining\tand\ttest\tsets\tby\ttaking\tthe\tMNIST\timages\tand\tadding\tnoise\tto\ttheir\tpixel intensities\tusing\tNumPy’s\trandint()\tfunction.\tThe\ttarget\timages\twill\tbe\tthe\toriginal\timages:"
   ]
  },
  {
   "cell_type": "code",
   "execution_count": 121,
   "metadata": {},
   "outputs": [],
   "source": [
    "# adding noise by creating it using randint\n",
    "noise=np.random.randint(0,100,x_train.shape)\n",
    "#noise=np.random.randint(0,100,x_test.shape)\n",
    "x_train_mod=x_train+noise \n",
    "#x_test_mod=x_test+noise\n",
    "y_train_mod=x_train\n",
    "y_test_mod=x_test\n"
   ]
  },
  {
   "cell_type": "code",
   "execution_count": 122,
   "metadata": {},
   "outputs": [],
   "source": [
    "noise=np.random.randint(0,100,(x_test.shape))\n",
    "x_test_mod=x_test+noise"
   ]
  },
  {
   "cell_type": "code",
   "execution_count": 123,
   "metadata": {},
   "outputs": [
    {
     "name": "stdout",
     "output_type": "stream",
     "text": [
      "Saving figure noisy_digit_example_plot\n"
     ]
    },
    {
     "data": {
      "image/png": "[encoded data removed]",
      "text/plain": [
       "<Figure size 432x288 with 2 Axes>"
      ]
     },
     "metadata": {
      "needs_background": "light"
     },
     "output_type": "display_data"
    }
   ],
   "source": [
    "some_index = 5500\n",
    "plt.subplot(121); plot_digit(x_test_mod[some_index])\n",
    "plt.subplot(122); plot_digit(y_test_mod[some_index])\n",
    "save_fig(\"noisy_digit_example_plot\")\n",
    "plt.show()"
   ]
  },
  {
   "cell_type": "code",
   "execution_count": 125,
   "metadata": {},
   "outputs": [
    {
     "data": {
      "image/png": "[encoded data removed]",
      "text/plain": [
       "<Figure size 432x288 with 1 Axes>"
      ]
     },
     "metadata": {
      "needs_background": "light"
     },
     "output_type": "display_data"
    }
   ],
   "source": [
    "knn_clf.fit(x_train_mod,y_train_mod)\n",
    "clean_digit=knn_clf.predict([x_test_mod[some_index]]) \n",
    "plot_digit(clean_digit)"
   ]
  },
  {
   "cell_type": "code",
   "execution_count": null,
   "metadata": {},
   "outputs": [],
   "source": []
  }
 ],
 "metadata": {
  "kernelspec": {
   "display_name": "Python 3",
   "language": "python",
   "name": "python3"
  },
  "language_info": {
   "codemirror_mode": {
    "name": "ipython",
    "version": 3
   },
   "file_extension": ".py",
   "mimetype": "text/x-python",
   "name": "python",
   "nbconvert_exporter": "python",
   "pygments_lexer": "ipython3",
   "version": "3.7.3"
  }
 },
 "nbformat": 4,
 "nbformat_minor": 2
}
